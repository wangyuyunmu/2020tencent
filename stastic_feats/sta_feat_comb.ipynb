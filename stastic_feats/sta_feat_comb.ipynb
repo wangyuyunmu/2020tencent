{
 "cells": [
  {
   "cell_type": "code",
   "execution_count": null,
   "metadata": {},
   "outputs": [],
   "source": []
  },
  {
   "cell_type": "code",
   "execution_count": 1,
   "metadata": {},
   "outputs": [],
   "source": [
    "import pandas as pd\n",
    "import numpy as np\n",
    "\n",
    "click_feat = pd.read_csv('clicks_feat.csv')\n",
    "industry_feat = pd.read_csv('industry_feat.csv')\n",
    "advertiser_feat = pd.read_csv('advertiser_id_feat.csv')\n",
    "category_feat = pd.read_csv('product_category_feat.csv')\n",
    "product_id_feat = pd.read_csv('product_id_feat.csv')\n"
   ]
  },
  {
   "cell_type": "code",
   "execution_count": 2,
   "metadata": {},
   "outputs": [],
   "source": [
    "#特征合并在一起\n",
    "features = click_feat.merge(category_feat,on='user_id',\n",
    "                            how='left').merge(industry_feat,on='user_id',\n",
    "                                              how='left').merge(advertiser_feat,on='user_id',\n",
    "                                                                how='left').merge(product_id_feat,on='user_id',how='left')\n",
    "\n",
    "features.fillna(0,inplace = True)\n",
    "features = features.sort_values(by = 'user_id')"
   ]
  },
  {
   "cell_type": "code",
   "execution_count": null,
   "metadata": {},
   "outputs": [],
   "source": [
    "#添加log特征"
   ]
  },
  {
   "cell_type": "code",
   "execution_count": 3,
   "metadata": {},
   "outputs": [],
   "source": [
    "def func_log(x):\n",
    "    return np.log(x+1)\n",
    "\n",
    "columns = ['product_id','advertiser_id','product_category','industry']\n",
    "index = ['1','3','5']\n",
    "\n",
    "for item in columns:\n",
    "    for i in index:\n",
    "        col = item + i\n",
    "        features[col+'log'] = features[col].transform(func_log)"
   ]
  },
  {
   "cell_type": "code",
   "execution_count": 4,
   "metadata": {},
   "outputs": [
    {
     "name": "stdout",
     "output_type": "stream",
     "text": [
      "900000\n"
     ]
    }
   ],
   "source": [
    "print(len(features))"
   ]
  },
  {
   "cell_type": "code",
   "execution_count": 5,
   "metadata": {},
   "outputs": [
    {
     "name": "stdout",
     "output_type": "stream",
     "text": [
      "   user_id  click_sum  click_mean  click_min  click_max  click_median  \\\n",
      "0        1         14    1.076923          1          2           1.0   \n",
      "1        2         46    1.022222          1          2           1.0   \n",
      "2        3         30    1.000000          1          1           1.0   \n",
      "3        4         29    1.000000          1          1           1.0   \n",
      "4        5         34    1.030303          1          2           1.0   \n",
      "\n",
      "   click_std  click_len  click_sum_log  click_len_log  ...  product_id5log  \\\n",
      "0   0.277350         13       2.639057       2.564949  ...        1.098612   \n",
      "1   0.149071         45       3.828641       3.806662  ...        1.098612   \n",
      "2   0.000000         30       3.401197       3.401197  ...        1.098612   \n",
      "3   0.000000         29       3.367296       3.367296  ...        1.098612   \n",
      "4   0.174078         33       3.526361       3.496508  ...        2.079442   \n",
      "\n",
      "   advertiser_id1log  advertiser_id3log  advertiser_id5log  \\\n",
      "0           0.693147           1.098612           1.098612   \n",
      "1           1.609438           1.098612           1.098612   \n",
      "2           0.693147           0.693147           1.386294   \n",
      "3           1.098612           1.098612           1.098612   \n",
      "4           1.098612           1.386294           1.098612   \n",
      "\n",
      "   product_category1log  product_category3log  product_category5log  \\\n",
      "0              1.791759              2.079442              1.098612   \n",
      "1              2.708050              3.433987              1.098612   \n",
      "2              2.197225              1.945910              2.639057   \n",
      "3              1.609438              2.772589              2.079442   \n",
      "4              2.708050              2.564949              2.079442   \n",
      "\n",
      "   industry1log  industry3log  industry5log  \n",
      "0      1.098612      1.386294      1.386294  \n",
      "1      1.945910      2.302585      2.079442  \n",
      "2      1.386294      2.197225      1.609438  \n",
      "3      1.791759      1.386294      1.609438  \n",
      "4      2.302585      1.386294      1.609438  \n",
      "\n",
      "[5 rows x 46 columns]\n"
     ]
    }
   ],
   "source": [
    "print(features.head())"
   ]
  },
  {
   "cell_type": "code",
   "execution_count": 6,
   "metadata": {},
   "outputs": [],
   "source": [
    "features.to_csv('train_sta_feats.csv',index=False)"
   ]
  },
  {
   "cell_type": "code",
   "execution_count": null,
   "metadata": {},
   "outputs": [],
   "source": []
  }
 ],
 "metadata": {
  "kernelspec": {
   "display_name": "conda_python3",
   "language": "python",
   "name": "conda_python3"
  },
  "language_info": {
   "codemirror_mode": {
    "name": "ipython",
    "version": 3
   },
   "file_extension": ".py",
   "mimetype": "text/x-python",
   "name": "python",
   "nbconvert_exporter": "python",
   "pygments_lexer": "ipython3",
   "version": "3.6.5"
  }
 },
 "nbformat": 4,
 "nbformat_minor": 4
}
