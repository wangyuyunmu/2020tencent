{
 "cells": [
  {
   "cell_type": "code",
   "execution_count": null,
   "metadata": {},
   "outputs": [],
   "source": []
  },
  {
   "cell_type": "code",
   "execution_count": 1,
   "metadata": {},
   "outputs": [],
   "source": [
    "import pandas as pd\n",
    "import numpy as np\n",
    "\n",
    "data_click = pd.read_csv('../test/click_log.csv')# click_log\n",
    "# data_user = pd.read_csv('../test/user.csv')      # user\n",
    "\n",
    "data_ad = pd.read_csv('../test/ad.csv')      # user\n",
    "data_click = data_click.merge(data_ad,on = 'creative_id',how = 'left')\n",
    "del data_ad\n",
    "\n",
    "# 提取基本点击特征\n",
    "\n",
    "click_times = data_click[['user_id','click_times']]\n",
    "user_groups = click_times.groupby('user_id')\n",
    "\n",
    "features = user_groups['click_times'].agg([np.sum,np.mean,np.min,np.max,np.median,np.std,len])\n",
    "features.columns=['click_sum','click_mean','click_min','click_max','click_median','click_std','click_len']\n",
    "features.reset_index(level=0, inplace=True)\n",
    "\n",
    "clicks_sum_log = features['click_sum'].agg(np.log)\n",
    "features['click_sum_log'] = clicks_sum_log\n",
    "\n",
    "clicks_len_log = features['click_len'].agg(np.log)\n",
    "features['click_len_log'] = clicks_len_log\n",
    "\n",
    "features.to_csv('test_clicks_feat.csv',index=False) "
   ]
  },
  {
   "cell_type": "code",
   "execution_count": null,
   "metadata": {},
   "outputs": [],
   "source": []
  },
  {
   "cell_type": "code",
   "execution_count": null,
   "metadata": {},
   "outputs": [],
   "source": []
  }
 ],
 "metadata": {
  "kernelspec": {
   "display_name": "conda_python3",
   "language": "python",
   "name": "conda_python3"
  },
  "language_info": {
   "codemirror_mode": {
    "name": "ipython",
    "version": 3
   },
   "file_extension": ".py",
   "mimetype": "text/x-python",
   "name": "python",
   "nbconvert_exporter": "python",
   "pygments_lexer": "ipython3",
   "version": "3.6.5"
  }
 },
 "nbformat": 4,
 "nbformat_minor": 4
}
