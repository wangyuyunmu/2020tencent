{
 "cells": [
  {
   "cell_type": "code",
   "execution_count": null,
   "metadata": {},
   "outputs": [],
   "source": []
  },
  {
   "cell_type": "code",
   "execution_count": 1,
   "metadata": {},
   "outputs": [
    {
     "name": "stderr",
     "output_type": "stream",
     "text": [
      "/opt/conda/envs/python3/lib/python3.6/site-packages/ipykernel/__main__.py:35: FutureWarning: Indexing with multiple keys (implicitly converted to a tuple of keys) will be deprecated, use a list instead.\n"
     ]
    }
   ],
   "source": [
    "import pandas as pd\n",
    "import numpy as np\n",
    "\n",
    "data_click = pd.read_csv('../train_preliminary/click_log.csv')# click_log\n",
    "data_user = pd.read_csv('../train_preliminary/user.csv')      # user\n",
    "\n",
    "data_ad = pd.read_csv('../train_preliminary/ad.csv')      # user\n",
    "data_click = data_click.merge(data_ad,on = 'creative_id',how = 'left')\n",
    "del data_ad\n",
    "\n",
    "\n",
    "#对industry广告行业进行特征提取\n",
    "industry_click = data_click[['user_id', 'product_category', 'click_times']].sort_values(by = 'user_id')\n",
    "# industry_click = industry_click[data_click['product_category']!='\\\\N']\n",
    "\n",
    "industry_click = industry_click.groupby(['user_id','product_category']).agg({'click_times':sum})\n",
    "industry_click = industry_click.reset_index()\n",
    "\n",
    "\n",
    "# def func_log(x):\n",
    "#     return np.log(x+1)\n",
    "# industry_click['product_category'+'_log'] = industry_click['click_times'].transform(func_log)\n",
    "\n",
    "# 提取头三个点击最高的种类及点击量\n",
    "head_x = industry_click.sort_values(['click_times'],ascending=False).groupby(['user_id']).head(3)\n",
    "head_x = head_x.sort_values('user_id')\n",
    "\n",
    "del industry_click\n",
    "\n",
    "def fun1(x):\n",
    "    x = list(x.values.reshape([-1]))[:6]\n",
    "    x = x[:6]+[0]*(6-len(x))\n",
    "    return pd.DataFrame([x])\n",
    "\n",
    "tops = head_x.groupby('user_id')['product_category','click_times'].apply(fun1)\n",
    "\n",
    "columns = []\n",
    "for i in range(6):\n",
    "    columns.append('product_category'+str(i))\n",
    "tops.columns = columns\n",
    "tops = tops.reset_index()\n",
    "tops = tops.drop(['level_1'],axis = 1)\n",
    "\n",
    "tops.to_csv('product_category_feat.csv',index=False) \n",
    "\n",
    "del tops"
   ]
  },
  {
   "cell_type": "code",
   "execution_count": 41,
   "metadata": {},
   "outputs": [],
   "source": []
  },
  {
   "cell_type": "code",
   "execution_count": null,
   "metadata": {},
   "outputs": [],
   "source": []
  },
  {
   "cell_type": "code",
   "execution_count": null,
   "metadata": {},
   "outputs": [],
   "source": []
  },
  {
   "cell_type": "code",
   "execution_count": null,
   "metadata": {},
   "outputs": [],
   "source": []
  },
  {
   "cell_type": "code",
   "execution_count": null,
   "metadata": {},
   "outputs": [],
   "source": []
  },
  {
   "cell_type": "code",
   "execution_count": null,
   "metadata": {},
   "outputs": [],
   "source": []
  },
  {
   "cell_type": "code",
   "execution_count": null,
   "metadata": {},
   "outputs": [],
   "source": []
  },
  {
   "cell_type": "code",
   "execution_count": null,
   "metadata": {},
   "outputs": [],
   "source": []
  },
  {
   "cell_type": "code",
   "execution_count": null,
   "metadata": {},
   "outputs": [],
   "source": [
    "click_feat = pd.read_csv('clicks_feat.csv')\n",
    "category_feat = pd.read_csv('category_feat_addlog.csv')\n",
    "industry_feat = pd.read_csv('industry_feat.csv')\n",
    "#特征合并在一起\n",
    "features = click_feat.merge(category_feat,on='user_id',how='left').merge(industry_feat,on='user_id',how='left')\n",
    "#添加label\n",
    "user = pd.read_csv('../../data/train_preliminary/user.csv')\n",
    "data = features.merge(user,on='user_id',how='left')\n",
    "# del data['user_id']"
   ]
  },
  {
   "cell_type": "code",
   "execution_count": null,
   "metadata": {},
   "outputs": [],
   "source": [
    "# 添加train_cat_max_id_feat特征\n",
    "def func_cat (x):\n",
    "    x = x[['category1','category2', 'category3', 'category4', 'category5', 'category6','category7', 'category8', 'category9', 'category10', 'category11','category12', 'category13', 'category14', 'category15', 'category16','category17', 'category18']]\n",
    "    d = {}\n",
    "    d['cat_max_id'] = [np.argmax(x.values)+1]\n",
    "    return pd.DataFrame(d)\n",
    "cat_max_id_feat = data.groupby('user_id').apply(func_cat)\n",
    "cat_max_id_feat.reset_index(level=0, inplace=True)\n",
    "cat_max_id_feat.index = range(len(cat_max_id_feat))\n",
    "cat_max_id_feat.to_csv('train_cat_max_id_feat.csv',index=False) \n"
   ]
  },
  {
   "cell_type": "code",
   "execution_count": null,
   "metadata": {},
   "outputs": [],
   "source": [
    "data = data.merge(cat_max_id_feat,on='user_id',how='left')\n",
    "data.to_csv('train_feat_user.csv',index=False) "
   ]
  }
 ],
 "metadata": {
  "kernelspec": {
   "display_name": "conda_python3",
   "language": "python",
   "name": "conda_python3"
  },
  "language_info": {
   "codemirror_mode": {
    "name": "ipython",
    "version": 3
   },
   "file_extension": ".py",
   "mimetype": "text/x-python",
   "name": "python",
   "nbconvert_exporter": "python",
   "pygments_lexer": "ipython3",
   "version": "3.6.5"
  }
 },
 "nbformat": 4,
 "nbformat_minor": 4
}
