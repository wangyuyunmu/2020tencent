{
 "cells": [
  {
   "cell_type": "code",
   "execution_count": 2,
   "metadata": {
    "collapsed": true,
    "jupyter": {
     "outputs_hidden": true
    }
   },
   "outputs": [
    {
     "name": "stdout",
     "output_type": "stream",
     "text": [
      "Looking in indexes: http://mirrors.tencentyun.com/pypi/simple\n",
      "Collecting keras\n",
      "  Downloading http://mirrors.tencentyun.com/pypi/packages/ad/fd/6bfe87920d7f4fd475acd28500a42482b6b84479832bdc0fe9e589a60ceb/Keras-2.3.1-py2.py3-none-any.whl (377 kB)\n",
      "\u001b[K     |████████████████████████████████| 377 kB 835 kB/s eta 0:00:01     |██████████████████████████      | 307 kB 835 kB/s eta 0:00:01\n",
      "\u001b[?25hRequirement already satisfied: pyyaml in /opt/conda/envs/tensorflow_py3/lib/python3.6/site-packages (from keras) (5.3)\n",
      "Requirement already satisfied: numpy>=1.9.1 in /opt/conda/envs/tensorflow_py3/lib/python3.6/site-packages (from keras) (1.16.4)\n",
      "Requirement already satisfied: six>=1.9.0 in /opt/conda/envs/tensorflow_py3/lib/python3.6/site-packages (from keras) (1.14.0)\n",
      "Requirement already satisfied: keras-preprocessing>=1.0.5 in /opt/conda/envs/tensorflow_py3/lib/python3.6/site-packages (from keras) (1.1.0)\n",
      "Requirement already satisfied: keras-applications>=1.0.6 in /opt/conda/envs/tensorflow_py3/lib/python3.6/site-packages (from keras) (1.0.8)\n",
      "Requirement already satisfied: h5py in /opt/conda/envs/tensorflow_py3/lib/python3.6/site-packages (from keras) (2.10.0)\n",
      "Requirement already satisfied: scipy>=0.14 in /opt/conda/envs/tensorflow_py3/lib/python3.6/site-packages (from keras) (1.4.1)\n",
      "Installing collected packages: keras\n",
      "Successfully installed keras-2.3.1\n"
     ]
    }
   ],
   "source": [
    "!pip install keras"
   ]
  },
  {
   "cell_type": "code",
   "execution_count": 1,
   "metadata": {},
   "outputs": [
    {
     "name": "stderr",
     "output_type": "stream",
     "text": [
      "Using TensorFlow backend.\n"
     ]
    }
   ],
   "source": [
    "from keras.models import Model\n",
    "from keras.optimizers import SGD,Adam,RMSprop\n",
    "# from keras.layers import Dense, Input, LSTM, Embedding,Dropout,Bidirectional,Flatten\n",
    "from keras.layers import *\n",
    "import os\n",
    "\n",
    "# from __future__ import print_function\n",
    "from keras import backend as K\n",
    "from keras.engine.topology import Layer\n",
    "import h5py\n",
    "\n",
    "from sklearn.model_selection import train_test_split\n",
    "from sklearn.metrics import confusion_matrix, classification_report, accuracy_score\n",
    "import pandas as pd\n",
    "import numpy as np\n",
    "import keras"
   ]
  },
  {
   "cell_type": "code",
   "execution_count": 2,
   "metadata": {},
   "outputs": [],
   "source": [
    "def data_load():\n",
    "    print('loading data ... \\n')\n",
    "    with h5py.File('../../../get_w2v_feat/w2v1_pre_ad/word_test_ad_w2v_w200.h5', 'r') as f:\n",
    "        data = np.array(f.get('word_data'))\n",
    "    print('get data ... \\n')\n",
    "    return data\n",
    "\n",
    "def load_data2():\n",
    "    with h5py.File('../../../get_w2v_feat/w2v1_pre_advertiser/word_test_advertiser_w2v_w200.h5', 'r') as f:\n",
    "        data = np.array(f.get('word_data'))\n",
    "    return data\n",
    "def load_data3():\n",
    "    with h5py.File('../../../get_w2v_feat/w2v1_pre_creative_id/word_test_creative_w2v_w200.h5', 'r') as f:\n",
    "        data = np.array(f.get('word_data'))\n",
    "    return data\n",
    "\n",
    "def load_data4():\n",
    "    with h5py.File('../../../get_w2v_feat/w2v1_pre_industry/word_test_industry_w2v_w200.h5', 'r') as f:\n",
    "        data = np.array(f.get('word_data'))\n",
    "    return data\n",
    "def load_data5():\n",
    "    with h5py.File('../../../get_w2v_feat/w2v1_pre_product_id/word_test_product_id_w2v_w200.h5', 'r') as f:\n",
    "        data = np.array(f.get('word_data'))\n",
    "    return data"
   ]
  },
  {
   "cell_type": "code",
   "execution_count": 3,
   "metadata": {},
   "outputs": [
    {
     "name": "stdout",
     "output_type": "stream",
     "text": [
      "load data...\n",
      "loading data ... \n",
      "\n",
      "get data ... \n",
      "\n"
     ]
    }
   ],
   "source": [
    "print('load data...')\n",
    "data_ad = data_load()\n",
    "data_advertiser = load_data2()\n",
    "data_creative = load_data3()\n",
    "data_industry = load_data4()\n",
    "data_product_id = load_data5()\n",
    "\n",
    "\n",
    "data_age = [data_ad,data_advertiser,data_creative]\n",
    "data_gender = [data_ad,data_advertiser,data_creative,data_industry,data_product_id]"
   ]
  },
  {
   "cell_type": "code",
   "execution_count": 4,
   "metadata": {},
   "outputs": [],
   "source": [
    "del data_ad,data_advertiser,data_creative,data_industry,data_product_id"
   ]
  },
  {
   "cell_type": "code",
   "execution_count": 4,
   "metadata": {},
   "outputs": [
    {
     "name": "stdout",
     "output_type": "stream",
     "text": [
      "WARNING:tensorflow:From /opt/conda/envs/tensorflow_py3/lib/python3.6/site-packages/keras/backend/tensorflow_backend.py:517: The name tf.placeholder is deprecated. Please use tf.compat.v1.placeholder instead.\n",
      "\n",
      "WARNING:tensorflow:From /opt/conda/envs/tensorflow_py3/lib/python3.6/site-packages/keras/backend/tensorflow_backend.py:74: The name tf.get_default_graph is deprecated. Please use tf.compat.v1.get_default_graph instead.\n",
      "\n",
      "WARNING:tensorflow:From /opt/conda/envs/tensorflow_py3/lib/python3.6/site-packages/keras/backend/tensorflow_backend.py:4138: The name tf.random_uniform is deprecated. Please use tf.random.uniform instead.\n",
      "\n",
      "WARNING:tensorflow:From /opt/conda/envs/tensorflow_py3/lib/python3.6/site-packages/keras/backend/tensorflow_backend.py:2974: add_dispatch_support.<locals>.wrapper (from tensorflow.python.ops.array_ops) is deprecated and will be removed in a future version.\n",
      "Instructions for updating:\n",
      "Use tf.where in 2.0, which has the same broadcast rule as np.where\n",
      "WARNING:tensorflow:From /opt/conda/envs/tensorflow_py3/lib/python3.6/site-packages/keras/backend/tensorflow_backend.py:174: The name tf.get_default_session is deprecated. Please use tf.compat.v1.get_default_session instead.\n",
      "\n",
      "WARNING:tensorflow:From /opt/conda/envs/tensorflow_py3/lib/python3.6/site-packages/keras/backend/tensorflow_backend.py:181: The name tf.ConfigProto is deprecated. Please use tf.compat.v1.ConfigProto instead.\n",
      "\n",
      "WARNING:tensorflow:From /opt/conda/envs/tensorflow_py3/lib/python3.6/site-packages/keras/optimizers.py:790: The name tf.train.Optimizer is deprecated. Please use tf.compat.v1.train.Optimizer instead.\n",
      "\n",
      "pre age ...\n"
     ]
    }
   ],
   "source": [
    "\n",
    "lstm_model_path_age1 = '../../../w2v_model5_lstm/lstm_comb/cross/cross_lstm32_comb_aver_age_adm_w200_1.309-0.461-001-1.375-0.434.hdf5'\n",
    "model_age1 = keras.models.load_model(lstm_model_path_age1)\n",
    "lstm_model_path_age2 = '../../../w2v_model5_lstm/lstm_comb/cross/cross_lstm32_comb_aver_age_adm_w200_1.311-0.458-001-1.375-0.434.hdf5'\n",
    "model_age2 = keras.models.load_model(lstm_model_path_age2)\n",
    "lstm_model_path_age3 = '../../../w2v_model5_lstm/lstm_comb/cross/cross_lstm32_comb_aver_age_adm_w200_1.312-0.460-001-1.375-0.434.hdf5'\n",
    "model_age3 = keras.models.load_model(lstm_model_path_age3)\n",
    "lstm_model_path_age4 = '../../../w2v_model5_lstm/lstm_comb/cross/cross_lstm32_comb_aver_age_adm_w200_1.314-0.461-001-1.374-0.434.hdf5'\n",
    "model_age4 = keras.models.load_model(lstm_model_path_age4)\n",
    "lstm_model_path_age5 = '../../../w2v_model5_lstm/lstm_comb/cross/cross_lstm32_comb_aver_age_adm_w200_1.322-0.454-001-1.377-0.433.hdf5'\n",
    "model_age5 = keras.models.load_model(lstm_model_path_age5)\n",
    "\n",
    "print('pre age ...')\n",
    "\n",
    "probs_age1 = model_age1.predict(data_age, verbose=0)\n",
    "probs_age2 = model_age2.predict(data_age, verbose=0)\n",
    "probs_age3 = model_age3.predict(data_age, verbose=0)\n",
    "probs_age4 = model_age4.predict(data_age, verbose=0)\n",
    "probs_age5 = model_age5.predict(data_age, verbose=0)\n",
    "\n",
    "pre_age = (probs_age1+probs_age2+probs_age3+probs_age4+probs_age5)/5\n",
    "\n",
    "d_age = pd.DataFrame(pre_age)\n",
    "d_age.to_csv('submission_age_pro.csv',index=False)\n",
    "\n",
    "pre_age = np.reshape(np.argmax(pre_age, axis=1),[-1])\n",
    "pre_age = pre_age + 1"
   ]
  },
  {
   "cell_type": "code",
   "execution_count": 5,
   "metadata": {},
   "outputs": [
    {
     "data": {
      "text/plain": [
       "array([3, 7, 2, ..., 2, 3, 5])"
      ]
     },
     "execution_count": 5,
     "metadata": {},
     "output_type": "execute_result"
    }
   ],
   "source": [
    "pre_age"
   ]
  },
  {
   "cell_type": "code",
   "execution_count": 7,
   "metadata": {
    "collapsed": true,
    "jupyter": {
     "outputs_hidden": true
    }
   },
   "outputs": [
    {
     "name": "stdout",
     "output_type": "stream",
     "text": [
      "WARNING:tensorflow:From /opt/conda/envs/tensorflow_py3/lib/python3.6/site-packages/keras/backend/tensorflow_backend.py:74: The name tf.get_default_graph is deprecated. Please use tf.compat.v1.get_default_graph instead.\n",
      "\n",
      "WARNING:tensorflow:From /opt/conda/envs/tensorflow_py3/lib/python3.6/site-packages/keras/backend/tensorflow_backend.py:4138: The name tf.random_uniform is deprecated. Please use tf.random.uniform instead.\n",
      "\n",
      "WARNING:tensorflow:From /opt/conda/envs/tensorflow_py3/lib/python3.6/site-packages/keras/backend/tensorflow_backend.py:2974: add_dispatch_support.<locals>.wrapper (from tensorflow.python.ops.array_ops) is deprecated and will be removed in a future version.\n",
      "Instructions for updating:\n",
      "Use tf.where in 2.0, which has the same broadcast rule as np.where\n",
      "WARNING:tensorflow:From /opt/conda/envs/tensorflow_py3/lib/python3.6/site-packages/keras/backend/tensorflow_backend.py:174: The name tf.get_default_session is deprecated. Please use tf.compat.v1.get_default_session instead.\n",
      "\n",
      "WARNING:tensorflow:From /opt/conda/envs/tensorflow_py3/lib/python3.6/site-packages/keras/backend/tensorflow_backend.py:181: The name tf.ConfigProto is deprecated. Please use tf.compat.v1.ConfigProto instead.\n",
      "\n",
      "WARNING:tensorflow:From /opt/conda/envs/tensorflow_py3/lib/python3.6/site-packages/keras/optimizers.py:790: The name tf.train.Optimizer is deprecated. Please use tf.compat.v1.train.Optimizer instead.\n",
      "\n",
      "pre gender ...\n"
     ]
    },
    {
     "ename": "NameError",
     "evalue": "name 'probs_gender' is not defined",
     "output_type": "error",
     "traceback": [
      "\u001b[0;31m---------------------------------------------------------------------------\u001b[0m",
      "\u001b[0;31mNameError\u001b[0m                                 Traceback (most recent call last)",
      "\u001b[0;32m<ipython-input-7-c1f7be2dc3e9>\u001b[0m in \u001b[0;36m<module>\u001b[0;34m\u001b[0m\n\u001b[1;32m     26\u001b[0m \u001b[0;34m\u001b[0m\u001b[0m\n\u001b[1;32m     27\u001b[0m \u001b[0;34m\u001b[0m\u001b[0m\n\u001b[0;32m---> 28\u001b[0;31m \u001b[0mpre_gender\u001b[0m \u001b[0;34m=\u001b[0m \u001b[0mnp\u001b[0m\u001b[0;34m.\u001b[0m\u001b[0marray\u001b[0m\u001b[0;34m(\u001b[0m\u001b[0mprobs_gender\u001b[0m\u001b[0;34m>\u001b[0m\u001b[0;36m0.5\u001b[0m\u001b[0;34m)\u001b[0m\u001b[0;34m.\u001b[0m\u001b[0mastype\u001b[0m\u001b[0;34m(\u001b[0m\u001b[0;34m'int'\u001b[0m\u001b[0;34m)\u001b[0m\u001b[0;34m\u001b[0m\u001b[0m\n\u001b[0m\u001b[1;32m     29\u001b[0m \u001b[0mpre_gender\u001b[0m \u001b[0;34m=\u001b[0m \u001b[0mpre_gender\u001b[0m \u001b[0;34m+\u001b[0m \u001b[0;36m1\u001b[0m\u001b[0;34m\u001b[0m\u001b[0m\n",
      "\u001b[0;31mNameError\u001b[0m: name 'probs_gender' is not defined"
     ]
    }
   ],
   "source": [
    "# 加载模型\n",
    "\n",
    "lstm_model_path_gender1 = '../../../w2v_model5_lstm/lstm_comb/cross/cross_lstm32_comb_gender_w2v_200_pre_5in_0.165-0.942-001-0.178-0.936.hdf5'\n",
    "model_gender1 = keras.models.load_model(lstm_model_path_gender1)\n",
    "lstm_model_path_gender2 = '../../../w2v_model5_lstm/lstm_comb/cross/cross_lstm32_comb_gender_w2v_200_pre_5in_0.168-0.941-001-0.178-0.936.hdf5'\n",
    "model_gender2 = keras.models.load_model(lstm_model_path_gender2)\n",
    "lstm_model_path_gender3 = '../../../w2v_model5_lstm/lstm_comb/cross/cross_lstm32_comb_gender_w2v_200_pre_5in_0.169-0.940-001-0.177-0.936.hdf5'\n",
    "model_gender3 = keras.models.load_model(lstm_model_path_gender3)\n",
    "lstm_model_path_gender4 = '../../../w2v_model5_lstm/lstm_comb/cross/cross_lstm32_comb_gender_w2v_200_pre_5in_0.169-0.940-001-0.178-0.936.hdf5'\n",
    "model_gender4 = keras.models.load_model(lstm_model_path_gender4)\n",
    "lstm_model_path_gender5 = '../../../w2v_model5_lstm/lstm_comb/cross/cross_lstm32_comb_gender_w2v_200_pre_5in_0.170-0.939-001-0.177-0.936.hdf5'\n",
    "model_gender5 = keras.models.load_model(lstm_model_path_gender5)\n",
    "    \n",
    "    \n",
    "print('pre gender ...')\n",
    "\n",
    "probs_gender1 = model_gender1.predict(data_gender, verbose=0)\n",
    "probs_gender2 = model_gender2.predict(data_gender, verbose=0)\n",
    "probs_gender3 = model_gender3.predict(data_gender, verbose=0)\n",
    "probs_gender4 = model_gender4.predict(data_gender, verbose=0)\n",
    "probs_gender5 = model_gender5.predict(data_gender, verbose=0)\n",
    "\n",
    "pre_gender = (probs_gender1 + probs_gender2+probs_gender3+probs_gender4+probs_gender5)/5\n",
    "d_gender = pd.DataFrame(pre_gender)\n",
    "d_gender.to_csv('submission_gender_pro.csv',index=False)\n",
    "\n",
    "\n",
    "pre_gender = np.array(pre_gender>0.5).astype('int')\n",
    "pre_gender = pre_gender + 1\n"
   ]
  },
  {
   "cell_type": "code",
   "execution_count": null,
   "metadata": {},
   "outputs": [],
   "source": []
  },
  {
   "cell_type": "code",
   "execution_count": 6,
   "metadata": {
    "collapsed": true,
    "jupyter": {
     "outputs_hidden": true
    }
   },
   "outputs": [
    {
     "name": "stdout",
     "output_type": "stream",
     "text": [
      "load data...\n",
      "loading data ... \n",
      "\n",
      "get data ... \n",
      "\n",
      "pre age ...\n"
     ]
    },
    {
     "ename": "NameError",
     "evalue": "name 'probs_age' is not defined",
     "output_type": "error",
     "traceback": [
      "\u001b[0;31m---------------------------------------------------------------------------\u001b[0m",
      "\u001b[0;31mNameError\u001b[0m                                 Traceback (most recent call last)",
      "\u001b[0;32m<ipython-input-6-5d59e2428397>\u001b[0m in \u001b[0;36m<module>\u001b[0;34m\u001b[0m\n\u001b[1;32m     35\u001b[0m \u001b[0;34m\u001b[0m\u001b[0m\n\u001b[1;32m     36\u001b[0m \u001b[0;34m\u001b[0m\u001b[0m\n\u001b[0;32m---> 37\u001b[0;31m \u001b[0mpre_age\u001b[0m \u001b[0;34m=\u001b[0m \u001b[0mnp\u001b[0m\u001b[0;34m.\u001b[0m\u001b[0mreshape\u001b[0m\u001b[0;34m(\u001b[0m\u001b[0mnp\u001b[0m\u001b[0;34m.\u001b[0m\u001b[0margmax\u001b[0m\u001b[0;34m(\u001b[0m\u001b[0mprobs_age\u001b[0m\u001b[0;34m,\u001b[0m \u001b[0maxis\u001b[0m\u001b[0;34m=\u001b[0m\u001b[0;36m1\u001b[0m\u001b[0;34m)\u001b[0m\u001b[0;34m,\u001b[0m\u001b[0;34m[\u001b[0m\u001b[0;34m-\u001b[0m\u001b[0;36m1\u001b[0m\u001b[0;34m]\u001b[0m\u001b[0;34m)\u001b[0m\u001b[0;34m\u001b[0m\u001b[0m\n\u001b[0m\u001b[1;32m     38\u001b[0m \u001b[0mpre_age\u001b[0m \u001b[0;34m=\u001b[0m \u001b[0mpre_age\u001b[0m \u001b[0;34m+\u001b[0m \u001b[0;36m1\u001b[0m\u001b[0;34m\u001b[0m\u001b[0m\n",
      "\u001b[0;31mNameError\u001b[0m: name 'probs_age' is not defined"
     ]
    }
   ],
   "source": [
    "\n",
    "test_user_id = np.array(range(3000001,4000001))\n",
    "res = pd.DataFrame(test_user_id)\n",
    "res.columns = [['user_id']]\n",
    "\n",
    "res['predicted_age']=pre_age\n",
    "res['predicted_gender']=pre_gender\n",
    "res.to_csv('submission.csv',index=False)"
   ]
  },
  {
   "cell_type": "code",
   "execution_count": 1,
   "metadata": {},
   "outputs": [],
   "source": [
    "import pandas as pd\n",
    "import numpy as np"
   ]
  },
  {
   "cell_type": "code",
   "execution_count": 2,
   "metadata": {},
   "outputs": [],
   "source": [
    "attention_gender = pd.read_csv('../../../w2v_model5_lstm/attention_comb/summit_cross/submission_gender_pro.csv')"
   ]
  },
  {
   "cell_type": "code",
   "execution_count": 3,
   "metadata": {},
   "outputs": [],
   "source": [
    "attention_submmit = pd.read_csv('../../../w2v_model5_lstm/attention_comb/summit_cross/submission.csv')"
   ]
  },
  {
   "cell_type": "code",
   "execution_count": 4,
   "metadata": {},
   "outputs": [],
   "source": [
    "lstm_gender = pd.read_csv('submission_gender_pro.csv')"
   ]
  },
  {
   "cell_type": "code",
   "execution_count": 8,
   "metadata": {},
   "outputs": [
    {
     "data": {
      "text/plain": [
       "array([0.00784583, 0.99178535, 0.92472774, ..., 0.0091321 , 0.00423017,\n",
       "       0.00576844])"
      ]
     },
     "execution_count": 8,
     "metadata": {},
     "output_type": "execute_result"
    }
   ],
   "source": [
    "lstm_gender['0'].values"
   ]
  },
  {
   "cell_type": "code",
   "execution_count": 9,
   "metadata": {},
   "outputs": [],
   "source": [
    "attention_gender_pro = attention_gender['predicted_gender'].values\n",
    "gender_pro = (attention_gender_pro + lstm_gender['0'].values)/2\n",
    "\n",
    "gender_pre = np.array(gender_pro>0.5).astype('int')\n",
    "gender_pre = gender_pre + 1"
   ]
  },
  {
   "cell_type": "code",
   "execution_count": 12,
   "metadata": {},
   "outputs": [],
   "source": [
    "attention_submmit['predicted_gender'] = gender_pre"
   ]
  },
  {
   "cell_type": "code",
   "execution_count": 13,
   "metadata": {},
   "outputs": [],
   "source": [
    "attention_submmit.to_csv('submission_add_gender.csv',index=False)"
   ]
  },
  {
   "cell_type": "code",
   "execution_count": null,
   "metadata": {},
   "outputs": [],
   "source": []
  },
  {
   "cell_type": "code",
   "execution_count": 6,
   "metadata": {},
   "outputs": [],
   "source": [
    "attention_age = pd.read_csv('../../../w2v_model5_lstm/attention_comb/summit_cross/submission_age_pro.csv')"
   ]
  },
  {
   "cell_type": "code",
   "execution_count": 7,
   "metadata": {},
   "outputs": [],
   "source": [
    "lstm_age = pd.read_csv('../../../w2v_model5_lstm/lstm_comb/cross/submission_age_pro.csv')"
   ]
  },
  {
   "cell_type": "code",
   "execution_count": 8,
   "metadata": {},
   "outputs": [],
   "source": [
    "submmit_pre = pd.read_csv('../../../w2v_model5_lstm/lstm_comb/cross/submmit_gender_add/submission.csv')"
   ]
  },
  {
   "cell_type": "code",
   "execution_count": 11,
   "metadata": {},
   "outputs": [
    {
     "data": {
      "text/plain": [
       "(1000000, 10)"
      ]
     },
     "execution_count": 11,
     "metadata": {},
     "output_type": "execute_result"
    }
   ],
   "source": [
    "np.shape(attention_age.values)"
   ]
  },
  {
   "cell_type": "code",
   "execution_count": 13,
   "metadata": {},
   "outputs": [
    {
     "data": {
      "text/plain": [
       "(1000000, 10)"
      ]
     },
     "execution_count": 13,
     "metadata": {},
     "output_type": "execute_result"
    }
   ],
   "source": [
    "np.shape(lstm_age.values)"
   ]
  },
  {
   "cell_type": "code",
   "execution_count": 15,
   "metadata": {},
   "outputs": [],
   "source": [
    "age_pro_ = (attention_age.values + lstm_age.values)/2"
   ]
  },
  {
   "cell_type": "code",
   "execution_count": 16,
   "metadata": {},
   "outputs": [],
   "source": [
    "age_pro_ = np.reshape(np.argmax(age_pro_, axis=1),[-1])\n",
    "age_pro_ = age_pro_ + 1"
   ]
  },
  {
   "cell_type": "code",
   "execution_count": 17,
   "metadata": {},
   "outputs": [
    {
     "data": {
      "text/plain": [
       "array([3, 7, 4, ..., 2, 3, 5])"
      ]
     },
     "execution_count": 17,
     "metadata": {},
     "output_type": "execute_result"
    }
   ],
   "source": [
    "age_pro_"
   ]
  },
  {
   "cell_type": "code",
   "execution_count": 18,
   "metadata": {},
   "outputs": [
    {
     "data": {
      "text/html": [
       "<div>\n",
       "<style scoped>\n",
       "    .dataframe tbody tr th:only-of-type {\n",
       "        vertical-align: middle;\n",
       "    }\n",
       "\n",
       "    .dataframe tbody tr th {\n",
       "        vertical-align: top;\n",
       "    }\n",
       "\n",
       "    .dataframe thead th {\n",
       "        text-align: right;\n",
       "    }\n",
       "</style>\n",
       "<table border=\"1\" class=\"dataframe\">\n",
       "  <thead>\n",
       "    <tr style=\"text-align: right;\">\n",
       "      <th></th>\n",
       "      <th>user_id</th>\n",
       "      <th>predicted_age</th>\n",
       "      <th>predicted_gender</th>\n",
       "    </tr>\n",
       "  </thead>\n",
       "  <tbody>\n",
       "    <tr>\n",
       "      <th>0</th>\n",
       "      <td>3000001</td>\n",
       "      <td>3</td>\n",
       "      <td>1</td>\n",
       "    </tr>\n",
       "    <tr>\n",
       "      <th>1</th>\n",
       "      <td>3000002</td>\n",
       "      <td>7</td>\n",
       "      <td>2</td>\n",
       "    </tr>\n",
       "    <tr>\n",
       "      <th>2</th>\n",
       "      <td>3000003</td>\n",
       "      <td>5</td>\n",
       "      <td>2</td>\n",
       "    </tr>\n",
       "    <tr>\n",
       "      <th>3</th>\n",
       "      <td>3000004</td>\n",
       "      <td>3</td>\n",
       "      <td>1</td>\n",
       "    </tr>\n",
       "    <tr>\n",
       "      <th>4</th>\n",
       "      <td>3000005</td>\n",
       "      <td>4</td>\n",
       "      <td>1</td>\n",
       "    </tr>\n",
       "    <tr>\n",
       "      <th>...</th>\n",
       "      <td>...</td>\n",
       "      <td>...</td>\n",
       "      <td>...</td>\n",
       "    </tr>\n",
       "    <tr>\n",
       "      <th>999995</th>\n",
       "      <td>3999996</td>\n",
       "      <td>3</td>\n",
       "      <td>1</td>\n",
       "    </tr>\n",
       "    <tr>\n",
       "      <th>999996</th>\n",
       "      <td>3999997</td>\n",
       "      <td>2</td>\n",
       "      <td>1</td>\n",
       "    </tr>\n",
       "    <tr>\n",
       "      <th>999997</th>\n",
       "      <td>3999998</td>\n",
       "      <td>2</td>\n",
       "      <td>1</td>\n",
       "    </tr>\n",
       "    <tr>\n",
       "      <th>999998</th>\n",
       "      <td>3999999</td>\n",
       "      <td>3</td>\n",
       "      <td>1</td>\n",
       "    </tr>\n",
       "    <tr>\n",
       "      <th>999999</th>\n",
       "      <td>4000000</td>\n",
       "      <td>5</td>\n",
       "      <td>1</td>\n",
       "    </tr>\n",
       "  </tbody>\n",
       "</table>\n",
       "<p>1000000 rows × 3 columns</p>\n",
       "</div>"
      ],
      "text/plain": [
       "        user_id  predicted_age  predicted_gender\n",
       "0       3000001              3                 1\n",
       "1       3000002              7                 2\n",
       "2       3000003              5                 2\n",
       "3       3000004              3                 1\n",
       "4       3000005              4                 1\n",
       "...         ...            ...               ...\n",
       "999995  3999996              3                 1\n",
       "999996  3999997              2                 1\n",
       "999997  3999998              2                 1\n",
       "999998  3999999              3                 1\n",
       "999999  4000000              5                 1\n",
       "\n",
       "[1000000 rows x 3 columns]"
      ]
     },
     "execution_count": 18,
     "metadata": {},
     "output_type": "execute_result"
    }
   ],
   "source": [
    "submmit_pre"
   ]
  },
  {
   "cell_type": "code",
   "execution_count": 19,
   "metadata": {},
   "outputs": [],
   "source": [
    "submmit_pre['predicted_age'] = age_pro_"
   ]
  },
  {
   "cell_type": "code",
   "execution_count": 20,
   "metadata": {},
   "outputs": [],
   "source": [
    "submmit_pre.to_csv('submission_add_gender_age.csv',index=False)"
   ]
  },
  {
   "cell_type": "code",
   "execution_count": null,
   "metadata": {},
   "outputs": [],
   "source": []
  }
 ],
 "metadata": {
  "kernelspec": {
   "display_name": "conda_tensorflow_py3",
   "language": "python",
   "name": "conda_tensorflow_py3"
  },
  "language_info": {
   "codemirror_mode": {
    "name": "ipython",
    "version": 3
   },
   "file_extension": ".py",
   "mimetype": "text/x-python",
   "name": "python",
   "nbconvert_exporter": "python",
   "pygments_lexer": "ipython3",
   "version": "3.6.5"
  }
 },
 "nbformat": 4,
 "nbformat_minor": 4
}
