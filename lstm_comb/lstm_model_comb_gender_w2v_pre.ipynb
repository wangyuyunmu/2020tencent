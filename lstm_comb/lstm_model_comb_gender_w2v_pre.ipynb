{
 "cells": [
  {
   "cell_type": "code",
   "execution_count": 2,
   "metadata": {
    "collapsed": true,
    "jupyter": {
     "outputs_hidden": true
    }
   },
   "outputs": [
    {
     "name": "stdout",
     "output_type": "stream",
     "text": [
      "Looking in indexes: http://mirrors.tencentyun.com/pypi/simple\n",
      "Collecting keras\n",
      "  Downloading http://mirrors.tencentyun.com/pypi/packages/ad/fd/6bfe87920d7f4fd475acd28500a42482b6b84479832bdc0fe9e589a60ceb/Keras-2.3.1-py2.py3-none-any.whl (377 kB)\n",
      "\u001b[K     |████████████████████████████████| 377 kB 818 kB/s eta 0:00:01\n",
      "\u001b[?25hRequirement already satisfied: keras-applications>=1.0.6 in /opt/conda/envs/tensorflow_py3/lib/python3.6/site-packages (from keras) (1.0.8)\n",
      "Requirement already satisfied: keras-preprocessing>=1.0.5 in /opt/conda/envs/tensorflow_py3/lib/python3.6/site-packages (from keras) (1.1.0)\n",
      "Requirement already satisfied: six>=1.9.0 in /opt/conda/envs/tensorflow_py3/lib/python3.6/site-packages (from keras) (1.14.0)\n",
      "Requirement already satisfied: h5py in /opt/conda/envs/tensorflow_py3/lib/python3.6/site-packages (from keras) (2.10.0)\n",
      "Requirement already satisfied: scipy>=0.14 in /opt/conda/envs/tensorflow_py3/lib/python3.6/site-packages (from keras) (1.4.1)\n",
      "Requirement already satisfied: numpy>=1.9.1 in /opt/conda/envs/tensorflow_py3/lib/python3.6/site-packages (from keras) (1.16.4)\n",
      "Requirement already satisfied: pyyaml in /opt/conda/envs/tensorflow_py3/lib/python3.6/site-packages (from keras) (5.3)\n",
      "Installing collected packages: keras\n",
      "Successfully installed keras-2.3.1\n"
     ]
    }
   ],
   "source": [
    "!pip install keras"
   ]
  },
  {
   "cell_type": "code",
   "execution_count": 21,
   "metadata": {},
   "outputs": [],
   "source": [
    "from keras.layers import Dense, Input, LSTM, Embedding, BatchNormalization,Bidirectional,GlobalMaxPool1D\n",
    "import os\n",
    "import gc\n",
    "from sklearn.model_selection import train_test_split\n",
    "from sklearn.metrics import confusion_matrix, classification_report, accuracy_score\n",
    "import pandas as pd\n",
    "import numpy as np\n",
    "import keras\n",
    "import h5py\n",
    "from keras.optimizers import RMSprop\n",
    "\n",
    "\n",
    "def buid_model():\n",
    "    # LSTM 模型\n",
    "    print('lstm model start...\\n')\n",
    "\n",
    "    # 标题输入：接收一个含有 200 个整数的序列，每个整数在 1 到 3812202 之间。\n",
    "    # 标题输入：接收一个含有 200 个整数的序列，每个整数在 1 到 3812202 之间。\n",
    "    main_input1 = Input(shape=(200,), name='main_input1', dtype='int32')\n",
    "    with h5py.File('../../get_w2v_feat/w2v1_pre_ad/embeddings_matrix_ad_size_32_w200_count_0.h5','r') as f:\n",
    "        embeddings_matrix1 = np.array(f.get('embeddings_matrix'))\n",
    "    embeddings1 = Embedding(input_dim = len(embeddings_matrix1), # 字典长度\n",
    "                                output_dim = 32, # 词向量 长度（100）\n",
    "                                weights=[embeddings_matrix1], # 重点：预训练的词向量系数\n",
    "                                input_length=200, # 每句话的 最大长度（必须padding） \n",
    "                                trainable= True, # 是否在 训练的过程中 更新词向量\n",
    "                                mask_zero = True)(main_input1)\n",
    "    \n",
    "    main_input2 = Input(shape=(200,), name='main_input2', dtype='int32')\n",
    "    with h5py.File('../../get_w2v_feat/w2v1_pre_advertiser/embeddings_matrix_advertiser_size_32_w200_count_5.h5','r') as f:\n",
    "        embeddings_matrix2 = np.array(f.get('embeddings_matrix'))\n",
    "    embeddings2 = Embedding(input_dim = len(embeddings_matrix2), # 字典长度\n",
    "                                output_dim = 32, # 词向量 长度（100）\n",
    "                                weights=[embeddings_matrix2], # 重点：预训练的词向量系数\n",
    "                                input_length=200, # 每句话的 最大长度（必须padding） \n",
    "                                trainable= True, # 是否在 训练的过程中 更新词向量\n",
    "                                mask_zero = True)(main_input2)\n",
    "    \n",
    "    main_input3 = Input(shape=(200,), name='main_input3', dtype='int32')\n",
    "    with h5py.File('../../get_w2v_feat/w2v1_pre_creative_id/embeddings_matrix_creative_size_32_w200_count_5.h5','r') as f:\n",
    "        embeddings_matrix3 = np.array(f.get('embeddings_matrix'))\n",
    "    embeddings3 = Embedding(input_dim = len(embeddings_matrix3), # 字典长度\n",
    "                                output_dim = 32, # 词向量 长度（100）\n",
    "                                weights=[embeddings_matrix3], # 重点：预训练的词向量系数\n",
    "                                input_length=200, # 每句话的 最大长度（必须padding） \n",
    "                                trainable= True, # 是否在 训练的过程中 更新词向量\n",
    "                                mask_zero = True)(main_input3)\n",
    "    \n",
    "    main_input4 = Input(shape=(200,),name='main_input4',dtype='int32')\n",
    "    with h5py.File('../../get_w2v_feat/w2v1_pre_industry/embeddings_matrix_industry_size_32_w200_count_5.h5','r') as f:\n",
    "        embeddings_matrix4 = np.array(f.get('embeddings_matrix'))\n",
    "    embeddings4 = Embedding(input_dim = len(embeddings_matrix4), # 字典长度\n",
    "                                output_dim = 32, # 词向量 长度（32）\n",
    "                                weights=[embeddings_matrix4], # 重点：预训练的词向量系数\n",
    "                                input_length=200, # 每句话的 最大长度（必须padding） \n",
    "                                trainable=True, # 是否在 训练的过程中 更新词向量\n",
    "                                mask_zero = False)(main_input4)\n",
    "    main_input5 = Input(shape=(200,),name='main_input5',dtype='int32')\n",
    "    with h5py.File('../../get_w2v_feat/w2v1_pre_product_id/embeddings_matrix_product_id_size_32_w200_count_5.h5','r') as f:\n",
    "        embeddings_matrix5 = np.array(f.get('embeddings_matrix'))\n",
    "    embeddings5 = Embedding(input_dim = len(embeddings_matrix5), # 字典长度\n",
    "                                output_dim = 32, # 词向量 长度（32）\n",
    "                                weights=[embeddings_matrix5], # 重点：预训练的词向量系数\n",
    "                                input_length=200, # 每句话的 最大长度（必须padding） \n",
    "                                trainable=True, # 是否在 训练的过程中 更新词向量\n",
    "                                mask_zero = False)(main_input5)\n",
    "    \n",
    "    emb = keras.layers.concatenate([embeddings1, embeddings2, embeddings3,\n",
    "                                    embeddings4, embeddings5])\n",
    "    \n",
    "    lstm_out = Bidirectional(LSTM(64,activation='softsign',return_sequences=False))(emb)\n",
    "#     lstm_out = Bidirectional(LSTM(100,activation='softsign',return_sequences=False))(lstm_out)\n",
    "    \n",
    "#     lstm_out = GlobalMaxPool1D()(lstm_out)\n",
    "    # 堆叠全连接\n",
    "#     den_x = Dense(32, activation='relu')(lstm_out)\n",
    "    \n",
    "#     # 辅助输入数据\n",
    "#     auxiliary_input = Input(shape=(48,), name='aux_input')\n",
    "#     # 将辅助输入与lstm输出连接起来\n",
    "    \n",
    "#     lstm_out = Dense(30, activation='relu')(lstm_out)\n",
    "#     lstm_out = BatchNormalization()(lstm_out)\n",
    "    # 辅助损失函数\n",
    "#     auxiliary_output = Dense(1, activation='sigmoid', name='aux_output')(lstm_out)\n",
    "    # 主输出\n",
    "    main_output = Dense(1, activation='sigmoid', name='main_output')(lstm_out)\n",
    "    \n",
    "\n",
    "    # 定义一个具有两个输入输出的模型\n",
    "    model = keras.models.Model(inputs=[main_input1,main_input2,main_input3,\n",
    "                                      main_input4,main_input5],\n",
    "                               outputs=[main_output])  # 这里的输入输出顺序与fit时一致就好\n",
    "    \n",
    "    opt = RMSprop(lr=0.005,  clipnorm=1.0)\n",
    "    model.compile(optimizer=opt,\n",
    "                  loss={'main_output': 'binary_crossentropy'},\n",
    "                 metrics=['accuracy'])\n",
    "\n",
    "    print('lstm model geted...\\n')\n",
    "    return model\n",
    "\n",
    "def data_load():\n",
    "    print('loading data ... \\n')\n",
    "\n",
    "    with h5py.File('../../get_w2v_feat/w2v1_pre_ad/word_train_ad_w2v_w200.h5', 'r') as f:\n",
    "        data = np.array(f.get('word_data'))\n",
    "        \n",
    "    label = pd.read_csv('../../train_preliminary/user.csv').sort_values(by=['user_id'])\n",
    "\n",
    "    train_x, test_x, train_y, test_y = train_test_split(data, label, test_size=0.2, random_state=2020)\n",
    "\n",
    "    train_y_age = train_y['age'].values - 1\n",
    "    train_y_age = keras.utils.np_utils.to_categorical(train_y_age, num_classes=10)\n",
    "    train_y_gender = train_y['gender'].values - 1\n",
    "\n",
    "    test_y_age = test_y['age'].values - 1\n",
    "    test_y_age = keras.utils.np_utils.to_categorical(test_y_age, num_classes=10)\n",
    "    test_y_gender = test_y['gender'].values - 1\n",
    "\n",
    "    print('get data ... \\n')\n",
    "\n",
    "    return train_x, test_x, train_y_age, train_y_gender,test_y_age,test_y_gender\n",
    "\n",
    "def load_data2():\n",
    "    \n",
    "    with h5py.File('../../get_w2v_feat/w2v1_pre_advertiser/word_train_advertiser_w2v_w200.h5', 'r') as f:\n",
    "        data = np.array(f.get('word_data'))\n",
    "\n",
    "    train_x, test_x= train_test_split(data, test_size=0.2, random_state=2020)\n",
    "    return train_x, test_x\n",
    "\n",
    "def load_data3():\n",
    "    \n",
    "    with h5py.File('../../get_w2v_feat/w2v1_pre_creative_id/word_train_creative_w2v_w200.h5', 'r') as f:\n",
    "        data = np.array(f.get('word_data'))\n",
    "\n",
    "    train_x, test_x= train_test_split(data, test_size=0.2, random_state=2020)\n",
    "    return train_x, test_x\n",
    "def load_data4():\n",
    "    \n",
    "    print('loading data1 ... \\n')\n",
    "    with h5py.File('../../get_w2v_feat/w2v1_pre_industry/word_train_industry_w2v_w200.h5', 'r') as f:\n",
    "        data = np.array(f.get('word_data'))\n",
    "    train_x, test_x= train_test_split(data, test_size=0.2, random_state=2020)\n",
    "    print('get data2 ... \\n')\n",
    "    return train_x, test_x\n",
    "\n",
    "def load_data5():\n",
    "    \n",
    "    print('loading data1 ... \\n')\n",
    "    with h5py.File('../../get_w2v_feat/w2v1_pre_product_id/word_train_product_id_w2v_w200.h5', 'r') as f:\n",
    "        data = np.array(f.get('word_data'))\n",
    "    train_x, test_x= train_test_split(data, test_size=0.2, random_state=2020)\n",
    "    print('get data2 ... \\n')\n",
    "    return train_x, test_x"
   ]
  },
  {
   "cell_type": "code",
   "execution_count": 22,
   "metadata": {},
   "outputs": [
    {
     "name": "stdout",
     "output_type": "stream",
     "text": [
      "lstm model start...\n",
      "\n",
      "lstm model geted...\n",
      "\n"
     ]
    }
   ],
   "source": [
    "\n",
    "def get_filename_for_saving(save_dir):\n",
    "    return os.path.join(save_dir,\n",
    "                        \"lstm32_comb_gender_w2v_200_pre_5in_{val_loss:.3f}-{val_acc:.3f}-{epoch:03d}-{loss:.3f}-{acc:.3f}.hdf5\")\n",
    "\n",
    "\n",
    "model = buid_model()"
   ]
  },
  {
   "cell_type": "code",
   "execution_count": 23,
   "metadata": {},
   "outputs": [
    {
     "name": "stdout",
     "output_type": "stream",
     "text": [
      "loading data ... \n",
      "\n",
      "get data ... \n",
      "\n",
      "loading data1 ... \n",
      "\n",
      "get data2 ... \n",
      "\n",
      "loading data1 ... \n",
      "\n",
      "get data2 ... \n",
      "\n"
     ]
    }
   ],
   "source": [
    "train_x, test_x, train_y_age, train_y_gender,test_y_age,test_y_gender = data_load()\n",
    "\n",
    "train_x2, test_x2 = load_data2()\n",
    "\n",
    "train_x3, test_x3 = load_data3()\n",
    "\n",
    "train_x4, test_x4 = load_data4()\n",
    "train_x5, test_x5 = load_data5()"
   ]
  },
  {
   "cell_type": "code",
   "execution_count": 24,
   "metadata": {},
   "outputs": [
    {
     "name": "stdout",
     "output_type": "stream",
     "text": [
      "lstm model fit...\n",
      "\n",
      "Train on 720000 samples, validate on 180000 samples\n",
      "Epoch 1/1\n",
      "720000/720000 [==============================] - 4637s 6ms/step - loss: 0.1779 - acc: 0.9359 - val_loss: 0.1663 - val_acc: 0.9416\n"
     ]
    },
    {
     "data": {
      "text/plain": [
       "<keras.callbacks.History at 0x7f32cffc2940>"
      ]
     },
     "execution_count": 24,
     "metadata": {},
     "output_type": "execute_result"
    }
   ],
   "source": [
    "print('lstm model fit...\\n')\n",
    "checkpointer = keras.callbacks.ModelCheckpoint(\n",
    "    filepath=get_filename_for_saving(''),\n",
    "    save_best_only=False)\n",
    "stopping = keras.callbacks.EarlyStopping(patience=8)\n",
    "reduce_lr = keras.callbacks.ReduceLROnPlateau(factor=0.1, patience=2, min_lr=0.0001)\n",
    "\n",
    "model.fit({'main_input1': train_x ,'main_input2': train_x2,'main_input3': train_x3,\n",
    "          'main_input4': train_x4,'main_input5': train_x5},\n",
    "          {'main_output': train_y_gender},\n",
    "          epochs=1,\n",
    "          batch_size=256,\n",
    "          validation_data=({'main_input1': test_x,'main_input2': test_x2,'main_input3': test_x3,\n",
    "                           'main_input4': test_x4,'main_input5': test_x5},\n",
    "                           {'main_output': test_y_gender}),\n",
    "          callbacks=[checkpointer, reduce_lr, stopping])"
   ]
  },
  {
   "cell_type": "code",
   "execution_count": null,
   "metadata": {},
   "outputs": [],
   "source": []
  }
 ],
 "metadata": {
  "kernelspec": {
   "display_name": "conda_tensorflow_py3",
   "language": "python",
   "name": "conda_tensorflow_py3"
  },
  "language_info": {
   "codemirror_mode": {
    "name": "ipython",
    "version": 3
   },
   "file_extension": ".py",
   "mimetype": "text/x-python",
   "name": "python",
   "nbconvert_exporter": "python",
   "pygments_lexer": "ipython3",
   "version": "3.6.5"
  }
 },
 "nbformat": 4,
 "nbformat_minor": 4
}
