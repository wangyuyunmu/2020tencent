{
 "cells": [
  {
   "cell_type": "code",
   "execution_count": 4,
   "metadata": {
    "collapsed": true,
    "jupyter": {
     "outputs_hidden": true
    }
   },
   "outputs": [
    {
     "name": "stdout",
     "output_type": "stream",
     "text": [
      "Looking in indexes: http://mirrors.tencentyun.com/pypi/simple\n",
      "Collecting keras==2.2.4\n",
      "  Downloading http://mirrors.tencentyun.com/pypi/packages/5e/10/aa32dad071ce52b5502266b5c659451cfd6ffcbf14e6c8c4f16c0ff5aaab/Keras-2.2.4-py2.py3-none-any.whl (312 kB)\n",
      "\u001b[K     |████████████████████████████████| 312 kB 848 kB/s eta 0:00:01\n",
      "\u001b[?25hRequirement already satisfied: keras-preprocessing>=1.0.5 in /opt/conda/envs/tensorflow_py3/lib/python3.6/site-packages (from keras==2.2.4) (1.1.0)\n",
      "Requirement already satisfied: keras-applications>=1.0.6 in /opt/conda/envs/tensorflow_py3/lib/python3.6/site-packages (from keras==2.2.4) (1.0.8)\n",
      "Requirement already satisfied: six>=1.9.0 in /opt/conda/envs/tensorflow_py3/lib/python3.6/site-packages (from keras==2.2.4) (1.14.0)\n",
      "Requirement already satisfied: scipy>=0.14 in /opt/conda/envs/tensorflow_py3/lib/python3.6/site-packages (from keras==2.2.4) (1.4.1)\n",
      "Requirement already satisfied: pyyaml in /opt/conda/envs/tensorflow_py3/lib/python3.6/site-packages (from keras==2.2.4) (5.3)\n",
      "Requirement already satisfied: h5py in /opt/conda/envs/tensorflow_py3/lib/python3.6/site-packages (from keras==2.2.4) (2.10.0)\n",
      "Requirement already satisfied: numpy>=1.9.1 in /opt/conda/envs/tensorflow_py3/lib/python3.6/site-packages (from keras==2.2.4) (1.16.4)\n",
      "Installing collected packages: keras\n",
      "Successfully installed keras-2.2.4\n"
     ]
    }
   ],
   "source": [
    "!pip install keras==2.2.4"
   ]
  },
  {
   "cell_type": "code",
   "execution_count": 19,
   "metadata": {},
   "outputs": [],
   "source": [
    "from keras.layers import Dense, Input, LSTM, Embedding,Dropout,Bidirectional,Flatten\n",
    "from keras.layers import*\n",
    "from keras.engine.topology import Layer\n",
    "from keras import backend as K\n",
    "import os\n",
    "import gc\n",
    "from sklearn.model_selection import train_test_split\n",
    "from sklearn.metrics import confusion_matrix, classification_report, accuracy_score\n",
    "import pandas as pd\n",
    "import numpy as np\n",
    "import keras\n",
    "import h5py\n",
    "from keras.optimizers import RMSprop\n",
    "\n",
    "\n",
    "\n",
    "def get_filename_for_saving(save_dir):\n",
    "    return os.path.join(save_dir,\n",
    "                        \"lstm100_bi_ad_age_pre200_true_{val_loss:.3f}-{val_acc:.3f}-{epoch:03d}-{loss:.3f}-{acc:.3f}.hdf5\")\n",
    "\n",
    "\n",
    "def buid_model():\n",
    "    # LSTM 模型\n",
    "    print('lstm model start...\\n')\n",
    "\n",
    "    # 标题输入：接收一个含有 200 个整数的序列，每个整数在 1 到 3812202 之间。\n",
    "    main_input = Input(shape=(200,), name='main_input', dtype='int32')\n",
    "    \n",
    "    with h5py.File('../../../get_w2v_feat/w2v1_pre_ad/embeddings_matrix_ad_size_32_w200_count_0.h5','r') as f:\n",
    "        embeddings_matrix = np.array(f.get('embeddings_matrix'))\n",
    "    embeddings = Embedding(input_dim = len(embeddings_matrix), # 字典长度\n",
    "                                output_dim = 32, # 词向量 长度（100）\n",
    "                                weights=[embeddings_matrix], # 重点：预训练的词向量系数\n",
    "                                input_length=200, # 每句话的 最大长度（必须padding） \n",
    "                                trainable= True, # 是否在 训练的过程中 更新词向量\n",
    "                                mask_zero = True)(main_input)\n",
    "    \n",
    "    lstm_out = Bidirectional(LSTM(32,activation='softsign',return_sequences=False))(embeddings)\n",
    "#     lstm_out = Bidirectional(LSTM(10,activation='softsign',return_sequences=False))(lstm_out)\n",
    "    \n",
    "    # 堆叠全连接\n",
    "#     den_x = Dense(32, activation='relu')(lstm_out)\n",
    "#     # 辅助输入数据\n",
    "#     auxiliary_input = Input(shape=(48,), name='aux_input')\n",
    "#     # 将辅助输入与lstm输出连接起来\n",
    "#     den_x = keras.layers.concatenate([den_x, auxiliary_input])\n",
    "    # 辅助损失函数\n",
    "#     auxiliary_output = Dense(1, activation='sigmoid', name='aux_output')(lstm_out)\n",
    "    # 主输出\n",
    "    \n",
    "    main_output = Dense(10, activation='softmax', name='main_output')(lstm_out)\n",
    "    # 定义一个具有两个输入输出的模型\n",
    "    model = keras.models.Model(inputs=[main_input],#,auxiliary_input],\n",
    "                               outputs=[main_output])  # 这里的输入输出顺序与fit时一致就好\n",
    "    \n",
    "    opt = RMSprop(lr=0.01,  clipnorm=1.0)\n",
    "    model.compile(optimizer=opt,\n",
    "                  sample_weight_mode='None',#\"temporal\",\n",
    "                  loss={'main_output': 'categorical_crossentropy'},\n",
    "                 metrics=['accuracy'])\n",
    "\n",
    "    print('lstm model geted...\\n')\n",
    "    return model\n",
    "\n",
    "\n",
    "def data_load():\n",
    "    print('loading data ... \\n')\n",
    "\n",
    "    with h5py.File('../../../get_w2v_feat/w2v1_pre_ad/word_train_ad_w2v_w200.h5', 'r') as f:\n",
    "        data = np.array(f.get('word_data'))\n",
    "\n",
    "    label = pd.read_csv('../../../train_preliminary/user.csv').sort_values(by=['user_id'])\n",
    "\n",
    "    train_x, test_x, train_y, test_y = train_test_split(data, label, test_size=0.2, random_state=2020)\n",
    "\n",
    "    train_y_age = train_y['age'].values - 1\n",
    "    train_y_age = keras.utils.np_utils.to_categorical(train_y_age, num_classes=10)\n",
    "    train_y_gender = train_y['gender'].values - 1\n",
    "\n",
    "    test_y_age = test_y['age'].values - 1\n",
    "    test_y_age = keras.utils.np_utils.to_categorical(test_y_age, num_classes=10)\n",
    "    test_y_gender = test_y['gender'].values - 1\n",
    "\n",
    "    print('get data ... \\n')\n",
    "\n",
    "    return train_x, test_x, train_y_age, train_y_gender,test_y_age,test_y_gender\n",
    "\n",
    "def load_data_sta():\n",
    "    data_sta = pd.read_csv('../../../train_feat_statisc.csv').sort_values(by = 'user_id')\n",
    "    \n",
    "    label = pd.read_csv('../../../train_preliminary/user.csv').sort_values(by=['user_id'])\n",
    "    data_sta = label.merge(data_sta, on='user_id', how='left').sort_values(by='user_id')\n",
    "    data_sta.fillna(0)\n",
    "    data_sta = data_sta.drop(['Unnamed: 0','user_id','gender','age'], axis=1)\n",
    "\n",
    "    train_x, test_x= train_test_split(data_sta, test_size=0.2, random_state=2020)\n",
    "    return train_x, test_x"
   ]
  },
  {
   "cell_type": "code",
   "execution_count": 20,
   "metadata": {},
   "outputs": [
    {
     "name": "stdout",
     "output_type": "stream",
     "text": [
      "lstm model start...\n",
      "\n",
      "lstm model geted...\n",
      "\n"
     ]
    }
   ],
   "source": [
    "model = buid_model()"
   ]
  },
  {
   "cell_type": "code",
   "execution_count": 21,
   "metadata": {},
   "outputs": [
    {
     "name": "stdout",
     "output_type": "stream",
     "text": [
      "_________________________________________________________________\n",
      "Layer (type)                 Output Shape              Param #   \n",
      "=================================================================\n",
      "main_input (InputLayer)      (None, 200)               0         \n",
      "_________________________________________________________________\n",
      "embedding_6 (Embedding)      (None, 200, 32)           32319296  \n",
      "_________________________________________________________________\n",
      "bidirectional_8 (Bidirection (None, 64)                16640     \n",
      "_________________________________________________________________\n",
      "main_output (Dense)          (None, 10)                650       \n",
      "=================================================================\n",
      "Total params: 32,336,586\n",
      "Trainable params: 32,336,586\n",
      "Non-trainable params: 0\n",
      "_________________________________________________________________\n",
      "None\n"
     ]
    }
   ],
   "source": [
    "print(model.summary())"
   ]
  },
  {
   "cell_type": "code",
   "execution_count": 7,
   "metadata": {},
   "outputs": [
    {
     "name": "stdout",
     "output_type": "stream",
     "text": [
      "loading data ... \n",
      "\n",
      "get data ... \n",
      "\n"
     ]
    }
   ],
   "source": [
    "train_x, test_x, train_y_age, train_y_gender,test_y_age,test_y_gender = data_load()\n",
    "\n",
    "# train_x_sta, test_x_sta = load_data_sta()"
   ]
  },
  {
   "cell_type": "code",
   "execution_count": 22,
   "metadata": {},
   "outputs": [
    {
     "name": "stdout",
     "output_type": "stream",
     "text": [
      "lstm model fit...\n",
      "\n",
      "Train on 720000 samples, validate on 180000 samples\n",
      "Epoch 1/100\n",
      "720000/720000 [==============================] - 2231s 3ms/step - loss: 1.4444 - acc: 0.4057 - val_loss: 1.3940 - val_acc: 0.4250\n",
      "Epoch 2/100\n",
      "  8704/720000 [..............................] - ETA: 34:30 - loss: 1.2387 - acc: 0.4994"
     ]
    },
    {
     "ename": "KeyboardInterrupt",
     "evalue": "",
     "output_type": "error",
     "traceback": [
      "\u001b[0;31m---------------------------------------------------------------------------\u001b[0m",
      "\u001b[0;31mKeyboardInterrupt\u001b[0m                         Traceback (most recent call last)",
      "\u001b[0;32m<ipython-input-22-3f66c618c251>\u001b[0m in \u001b[0;36m<module>\u001b[0;34m\u001b[0m\n\u001b[1;32m     23\u001b[0m           validation_data=({'main_input': test_x},#,'aux_input': test_x_sta},\n\u001b[1;32m     24\u001b[0m                            {'main_output': test_y_age}),\n\u001b[0;32m---> 25\u001b[0;31m           callbacks=[checkpointer, reduce_lr, stopping])\n\u001b[0m\u001b[1;32m     26\u001b[0m \u001b[0;31m# loss: 1.4593 - acc: 0.4002 - val_loss: 1.4072 - val_acc: 0.4215\u001b[0m\u001b[0;34m\u001b[0m\u001b[0;34m\u001b[0m\u001b[0m\n",
      "\u001b[0;32m/opt/conda/envs/tensorflow_py3/lib/python3.6/site-packages/keras/engine/training.py\u001b[0m in \u001b[0;36mfit\u001b[0;34m(self, x, y, batch_size, epochs, verbose, callbacks, validation_split, validation_data, shuffle, class_weight, sample_weight, initial_epoch, steps_per_epoch, validation_steps, **kwargs)\u001b[0m\n\u001b[1;32m   1037\u001b[0m                                         \u001b[0minitial_epoch\u001b[0m\u001b[0;34m=\u001b[0m\u001b[0minitial_epoch\u001b[0m\u001b[0;34m,\u001b[0m\u001b[0;34m\u001b[0m\u001b[0m\n\u001b[1;32m   1038\u001b[0m                                         \u001b[0msteps_per_epoch\u001b[0m\u001b[0;34m=\u001b[0m\u001b[0msteps_per_epoch\u001b[0m\u001b[0;34m,\u001b[0m\u001b[0;34m\u001b[0m\u001b[0m\n\u001b[0;32m-> 1039\u001b[0;31m                                         validation_steps=validation_steps)\n\u001b[0m\u001b[1;32m   1040\u001b[0m \u001b[0;34m\u001b[0m\u001b[0m\n\u001b[1;32m   1041\u001b[0m     def evaluate(self, x=None, y=None,\n",
      "\u001b[0;32m/opt/conda/envs/tensorflow_py3/lib/python3.6/site-packages/keras/engine/training_arrays.py\u001b[0m in \u001b[0;36mfit_loop\u001b[0;34m(model, f, ins, out_labels, batch_size, epochs, verbose, callbacks, val_f, val_ins, shuffle, callback_metrics, initial_epoch, steps_per_epoch, validation_steps)\u001b[0m\n\u001b[1;32m    197\u001b[0m                     \u001b[0mins_batch\u001b[0m\u001b[0;34m[\u001b[0m\u001b[0mi\u001b[0m\u001b[0;34m]\u001b[0m \u001b[0;34m=\u001b[0m \u001b[0mins_batch\u001b[0m\u001b[0;34m[\u001b[0m\u001b[0mi\u001b[0m\u001b[0;34m]\u001b[0m\u001b[0;34m.\u001b[0m\u001b[0mtoarray\u001b[0m\u001b[0;34m(\u001b[0m\u001b[0;34m)\u001b[0m\u001b[0;34m\u001b[0m\u001b[0m\n\u001b[1;32m    198\u001b[0m \u001b[0;34m\u001b[0m\u001b[0m\n\u001b[0;32m--> 199\u001b[0;31m                 \u001b[0mouts\u001b[0m \u001b[0;34m=\u001b[0m \u001b[0mf\u001b[0m\u001b[0;34m(\u001b[0m\u001b[0mins_batch\u001b[0m\u001b[0;34m)\u001b[0m\u001b[0;34m\u001b[0m\u001b[0m\n\u001b[0m\u001b[1;32m    200\u001b[0m                 \u001b[0mouts\u001b[0m \u001b[0;34m=\u001b[0m \u001b[0mto_list\u001b[0m\u001b[0;34m(\u001b[0m\u001b[0mouts\u001b[0m\u001b[0;34m)\u001b[0m\u001b[0;34m\u001b[0m\u001b[0m\n\u001b[1;32m    201\u001b[0m                 \u001b[0;32mfor\u001b[0m \u001b[0ml\u001b[0m\u001b[0;34m,\u001b[0m \u001b[0mo\u001b[0m \u001b[0;32min\u001b[0m \u001b[0mzip\u001b[0m\u001b[0;34m(\u001b[0m\u001b[0mout_labels\u001b[0m\u001b[0;34m,\u001b[0m \u001b[0mouts\u001b[0m\u001b[0;34m)\u001b[0m\u001b[0;34m:\u001b[0m\u001b[0;34m\u001b[0m\u001b[0m\n",
      "\u001b[0;32m/opt/conda/envs/tensorflow_py3/lib/python3.6/site-packages/keras/backend/tensorflow_backend.py\u001b[0m in \u001b[0;36m__call__\u001b[0;34m(self, inputs)\u001b[0m\n\u001b[1;32m   2713\u001b[0m                 \u001b[0;32mreturn\u001b[0m \u001b[0mself\u001b[0m\u001b[0;34m.\u001b[0m\u001b[0m_legacy_call\u001b[0m\u001b[0;34m(\u001b[0m\u001b[0minputs\u001b[0m\u001b[0;34m)\u001b[0m\u001b[0;34m\u001b[0m\u001b[0m\n\u001b[1;32m   2714\u001b[0m \u001b[0;34m\u001b[0m\u001b[0m\n\u001b[0;32m-> 2715\u001b[0;31m             \u001b[0;32mreturn\u001b[0m \u001b[0mself\u001b[0m\u001b[0;34m.\u001b[0m\u001b[0m_call\u001b[0m\u001b[0;34m(\u001b[0m\u001b[0minputs\u001b[0m\u001b[0;34m)\u001b[0m\u001b[0;34m\u001b[0m\u001b[0m\n\u001b[0m\u001b[1;32m   2716\u001b[0m         \u001b[0;32melse\u001b[0m\u001b[0;34m:\u001b[0m\u001b[0;34m\u001b[0m\u001b[0m\n\u001b[1;32m   2717\u001b[0m             \u001b[0;32mif\u001b[0m \u001b[0mpy_any\u001b[0m\u001b[0;34m(\u001b[0m\u001b[0mis_tensor\u001b[0m\u001b[0;34m(\u001b[0m\u001b[0mx\u001b[0m\u001b[0;34m)\u001b[0m \u001b[0;32mfor\u001b[0m \u001b[0mx\u001b[0m \u001b[0;32min\u001b[0m \u001b[0minputs\u001b[0m\u001b[0;34m)\u001b[0m\u001b[0;34m:\u001b[0m\u001b[0;34m\u001b[0m\u001b[0m\n",
      "\u001b[0;32m/opt/conda/envs/tensorflow_py3/lib/python3.6/site-packages/keras/backend/tensorflow_backend.py\u001b[0m in \u001b[0;36m_call\u001b[0;34m(self, inputs)\u001b[0m\n\u001b[1;32m   2673\u001b[0m             \u001b[0mfetched\u001b[0m \u001b[0;34m=\u001b[0m \u001b[0mself\u001b[0m\u001b[0;34m.\u001b[0m\u001b[0m_callable_fn\u001b[0m\u001b[0;34m(\u001b[0m\u001b[0;34m*\u001b[0m\u001b[0marray_vals\u001b[0m\u001b[0;34m,\u001b[0m \u001b[0mrun_metadata\u001b[0m\u001b[0;34m=\u001b[0m\u001b[0mself\u001b[0m\u001b[0;34m.\u001b[0m\u001b[0mrun_metadata\u001b[0m\u001b[0;34m)\u001b[0m\u001b[0;34m\u001b[0m\u001b[0m\n\u001b[1;32m   2674\u001b[0m         \u001b[0;32melse\u001b[0m\u001b[0;34m:\u001b[0m\u001b[0;34m\u001b[0m\u001b[0m\n\u001b[0;32m-> 2675\u001b[0;31m             \u001b[0mfetched\u001b[0m \u001b[0;34m=\u001b[0m \u001b[0mself\u001b[0m\u001b[0;34m.\u001b[0m\u001b[0m_callable_fn\u001b[0m\u001b[0;34m(\u001b[0m\u001b[0;34m*\u001b[0m\u001b[0marray_vals\u001b[0m\u001b[0;34m)\u001b[0m\u001b[0;34m\u001b[0m\u001b[0m\n\u001b[0m\u001b[1;32m   2676\u001b[0m         \u001b[0;32mreturn\u001b[0m \u001b[0mfetched\u001b[0m\u001b[0;34m[\u001b[0m\u001b[0;34m:\u001b[0m\u001b[0mlen\u001b[0m\u001b[0;34m(\u001b[0m\u001b[0mself\u001b[0m\u001b[0;34m.\u001b[0m\u001b[0moutputs\u001b[0m\u001b[0;34m)\u001b[0m\u001b[0;34m]\u001b[0m\u001b[0;34m\u001b[0m\u001b[0m\n\u001b[1;32m   2677\u001b[0m \u001b[0;34m\u001b[0m\u001b[0m\n",
      "\u001b[0;32m/opt/conda/envs/tensorflow_py3/lib/python3.6/site-packages/tensorflow/python/client/session.py\u001b[0m in \u001b[0;36m__call__\u001b[0;34m(self, *args, **kwargs)\u001b[0m\n\u001b[1;32m   1456\u001b[0m         ret = tf_session.TF_SessionRunCallable(self._session._session,\n\u001b[1;32m   1457\u001b[0m                                                \u001b[0mself\u001b[0m\u001b[0;34m.\u001b[0m\u001b[0m_handle\u001b[0m\u001b[0;34m,\u001b[0m \u001b[0margs\u001b[0m\u001b[0;34m,\u001b[0m\u001b[0;34m\u001b[0m\u001b[0m\n\u001b[0;32m-> 1458\u001b[0;31m                                                run_metadata_ptr)\n\u001b[0m\u001b[1;32m   1459\u001b[0m         \u001b[0;32mif\u001b[0m \u001b[0mrun_metadata\u001b[0m\u001b[0;34m:\u001b[0m\u001b[0;34m\u001b[0m\u001b[0m\n\u001b[1;32m   1460\u001b[0m           \u001b[0mproto_data\u001b[0m \u001b[0;34m=\u001b[0m \u001b[0mtf_session\u001b[0m\u001b[0;34m.\u001b[0m\u001b[0mTF_GetBuffer\u001b[0m\u001b[0;34m(\u001b[0m\u001b[0mrun_metadata_ptr\u001b[0m\u001b[0;34m)\u001b[0m\u001b[0;34m\u001b[0m\u001b[0m\n",
      "\u001b[0;31mKeyboardInterrupt\u001b[0m: "
     ]
    }
   ],
   "source": [
    "print('lstm model fit...\\n')\n",
    "checkpointer = keras.callbacks.ModelCheckpoint(\n",
    "    filepath=get_filename_for_saving(''),\n",
    "    save_best_only=False)\n",
    "stopping = keras.callbacks.EarlyStopping(patience=8)\n",
    "reduce_lr = keras.callbacks.ReduceLROnPlateau(factor=0.1, patience=2, min_lr=0.0001)\n",
    "\n",
    "# with h5py.File('../train_data_weight.h5', 'r') as f:\n",
    "#         weight = np.array(f.get('weight'))\n",
    "# train_w, test_w= train_test_split(weight, test_size=0.2, random_state=2020)\n",
    "\n",
    "# train_w = np.squeeze(train_w)\n",
    "# t_w = 10/np.log(train_w)\n",
    "\n",
    "\n",
    "model.fit({'main_input': train_x },#,'aux_input': train_x_sta},\n",
    "          {'main_output': train_y_age},\n",
    "          epochs=100,\n",
    "          batch_size=256,\n",
    "#           class_weight = {0:0.698, 1:0.520, 2:0.671, 3:0.698, 4:0.945,5:0.890, 6:0.986, 7:1. , 8:0.808,9:0.657},\n",
    "#           class_weight = {0:1.,1:2.159}\n",
    "#           sample_weight = t_w,\n",
    "          validation_data=({'main_input': test_x},#,'aux_input': test_x_sta},\n",
    "                           {'main_output': test_y_age}),\n",
    "          callbacks=[checkpointer, reduce_lr, stopping])\n",
    "# loss: 1.4593 - acc: 0.4002 - val_loss: 1.4072 - val_acc: 0.4215"
   ]
  },
  {
   "cell_type": "code",
   "execution_count": null,
   "metadata": {},
   "outputs": [],
   "source": [
    "\n",
    "# pre = model.predict(test_x,verbose=1)\n",
    "\n",
    "# #评估结果\n",
    "# from sklearn.metrics import confusion_matrix, classification_report\n",
    "# y_ = np.reshape(np.argmax(test_y,axis=1),[-1])\n",
    "# pre_ = np.reshape(np.argmax(pre, axis=1),[-1])\n",
    "# #每个类的各项指标\n",
    "# cm = confusion_matrix(y_, pre_)\n",
    "# # np.set_printoptions(precision=3)\n",
    "# cm_normalized = cm.astype('float') / cm.sum(axis=1)[:, np.newaxis]\n",
    "# print(cm_normalized)\n",
    "# print(classification_report(y_, pre_))"
   ]
  }
 ],
 "metadata": {
  "kernelspec": {
   "display_name": "conda_tensorflow_py3",
   "language": "python",
   "name": "conda_tensorflow_py3"
  },
  "language_info": {
   "codemirror_mode": {
    "name": "ipython",
    "version": 3
   },
   "file_extension": ".py",
   "mimetype": "text/x-python",
   "name": "python",
   "nbconvert_exporter": "python",
   "pygments_lexer": "ipython3",
   "version": "3.6.5"
  }
 },
 "nbformat": 4,
 "nbformat_minor": 4
}
