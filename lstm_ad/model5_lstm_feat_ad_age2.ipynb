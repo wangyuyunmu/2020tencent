{
 "cells": [
  {
   "cell_type": "code",
   "execution_count": 1,
   "metadata": {},
   "outputs": [
    {
     "name": "stdout",
     "output_type": "stream",
     "text": [
      "Looking in indexes: http://mirrors.tencentyun.com/pypi/simple\n",
      "Collecting keras\n",
      "  Downloading http://mirrors.tencentyun.com/pypi/packages/ad/fd/6bfe87920d7f4fd475acd28500a42482b6b84479832bdc0fe9e589a60ceb/Keras-2.3.1-py2.py3-none-any.whl (377 kB)\n",
      "\u001b[K     |████████████████████████████████| 377 kB 858 kB/s eta 0:00:01\n",
      "\u001b[?25hRequirement already satisfied: six>=1.9.0 in /opt/conda/envs/tensorflow_py3/lib/python3.6/site-packages (from keras) (1.14.0)\n",
      "Requirement already satisfied: numpy>=1.9.1 in /opt/conda/envs/tensorflow_py3/lib/python3.6/site-packages (from keras) (1.16.4)\n",
      "Requirement already satisfied: scipy>=0.14 in /opt/conda/envs/tensorflow_py3/lib/python3.6/site-packages (from keras) (1.4.1)\n",
      "Requirement already satisfied: h5py in /opt/conda/envs/tensorflow_py3/lib/python3.6/site-packages (from keras) (2.10.0)\n",
      "Requirement already satisfied: keras-applications>=1.0.6 in /opt/conda/envs/tensorflow_py3/lib/python3.6/site-packages (from keras) (1.0.8)\n",
      "Requirement already satisfied: keras-preprocessing>=1.0.5 in /opt/conda/envs/tensorflow_py3/lib/python3.6/site-packages (from keras) (1.1.0)\n",
      "Requirement already satisfied: pyyaml in /opt/conda/envs/tensorflow_py3/lib/python3.6/site-packages (from keras) (5.3)\n",
      "Installing collected packages: keras\n",
      "Successfully installed keras-2.3.1\n"
     ]
    }
   ],
   "source": [
    "!pip install keras"
   ]
  },
  {
   "cell_type": "code",
   "execution_count": 5,
   "metadata": {},
   "outputs": [],
   "source": [
    "from keras.layers import Dense, Input, LSTM, Embedding,Dropout,Bidirectional,Flatten\n",
    "from keras.layers import*\n",
    "from keras.engine.topology import Layer\n",
    "from keras import backend as K\n",
    "import os\n",
    "import gc\n",
    "from sklearn.model_selection import train_test_split\n",
    "from sklearn.metrics import confusion_matrix, classification_report, accuracy_score\n",
    "import pandas as pd\n",
    "import numpy as np\n",
    "import keras\n",
    "import h5py\n",
    "from keras.optimizers import RMSprop\n",
    "\n",
    "\n",
    "\n",
    "def get_filename_for_saving(save_dir):\n",
    "    return os.path.join(save_dir,\n",
    "                        \"lstm_bi_ad_age_softsign2{val_loss:.3f}-{val_accuracy:.3f}-{epoch:03d}-{loss:.3f}-{accuracy:.3f}.hdf5\")\n",
    "\n",
    "\n",
    "def buid_model():\n",
    "    # LSTM 模型\n",
    "    print('lstm model start...\\n')\n",
    "\n",
    "    # 标题输入：接收一个含有 200 个整数的序列，每个整数在 1 到 3812202 之间。\n",
    "    main_input = Input(shape=(200,), name='main_input', dtype='int32')\n",
    "    emb = Embedding(output_dim=15, input_dim=3812203, input_length=200,mask_zero = True)(main_input)\n",
    "    lstm_out = Bidirectional(LSTM(10,activation='softsign',return_sequences=False))(emb)\n",
    "    \n",
    "    # 堆叠全连接\n",
    "#     den_x = Dense(32, activation='relu')(lstm_out)\n",
    "#     # 辅助输入数据\n",
    "#     auxiliary_input = Input(shape=(48,), name='aux_input')\n",
    "#     # 将辅助输入与lstm输出连接起来\n",
    "#     den_x = keras.layers.concatenate([den_x, auxiliary_input])\n",
    "    # 辅助损失函数\n",
    "#     auxiliary_output = Dense(1, activation='sigmoid', name='aux_output')(lstm_out)\n",
    "    # 主输出\n",
    "    \n",
    "    main_output = Dense(10, activation='softmax', name='main_output')(lstm_out)\n",
    "    # 定义一个具有两个输入输出的模型\n",
    "    model = keras.models.Model(inputs=[main_input],#,auxiliary_input],\n",
    "                               outputs=[main_output])  # 这里的输入输出顺序与fit时一致就好\n",
    "    \n",
    "    opt = RMSprop(lr=0.01,  clipnorm=1.0)\n",
    "    model.compile(optimizer=opt,\n",
    "                  sample_weight_mode='None',#\"temporal\",\n",
    "                  loss={'main_output': 'categorical_crossentropy'},\n",
    "                 metrics=['accuracy'])\n",
    "\n",
    "    print('lstm model geted...\\n')\n",
    "    return model\n",
    "\n",
    "\n",
    "def data_load():\n",
    "    print('loading data ... \\n')\n",
    "\n",
    "    with h5py.File('../word_train_ad.h5', 'r') as f:\n",
    "        data = np.array(f.get('word_data'))\n",
    "\n",
    "    label = pd.read_csv('../../../train_preliminary/user.csv').sort_values(by=['user_id'])\n",
    "\n",
    "    train_x, test_x, train_y, test_y = train_test_split(data, label, test_size=0.2, random_state=2020)\n",
    "\n",
    "    train_y_age = train_y['age'].values - 1\n",
    "    train_y_age = keras.utils.np_utils.to_categorical(train_y_age, num_classes=10)\n",
    "    train_y_gender = train_y['gender'].values - 1\n",
    "\n",
    "    test_y_age = test_y['age'].values - 1\n",
    "    test_y_age = keras.utils.np_utils.to_categorical(test_y_age, num_classes=10)\n",
    "    test_y_gender = test_y['gender'].values - 1\n",
    "\n",
    "    print('get data ... \\n')\n",
    "\n",
    "    return train_x, test_x, train_y_age, train_y_gender,test_y_age,test_y_gender\n",
    "\n",
    "def load_data_sta():\n",
    "    data_sta = pd.read_csv('../../../train_feat_statisc.csv').sort_values(by = 'user_id')\n",
    "    \n",
    "    label = pd.read_csv('../../../train_preliminary/user.csv').sort_values(by=['user_id'])\n",
    "    data_sta = label.merge(data_sta, on='user_id', how='left').sort_values(by='user_id')\n",
    "    data_sta.fillna(0)\n",
    "    data_sta = data_sta.drop(['Unnamed: 0','user_id','gender','age'], axis=1)\n",
    "\n",
    "    train_x, test_x= train_test_split(data_sta, test_size=0.2, random_state=2020)\n",
    "    return train_x, test_x"
   ]
  },
  {
   "cell_type": "code",
   "execution_count": 7,
   "metadata": {},
   "outputs": [
    {
     "name": "stdout",
     "output_type": "stream",
     "text": [
      "lstm model start...\n",
      "\n",
      "lstm model geted...\n",
      "\n"
     ]
    }
   ],
   "source": [
    "model = buid_model()"
   ]
  },
  {
   "cell_type": "code",
   "execution_count": 19,
   "metadata": {
    "collapsed": true,
    "jupyter": {
     "outputs_hidden": true
    }
   },
   "outputs": [
    {
     "name": "stdout",
     "output_type": "stream",
     "text": [
      "Model: \"model_2\"\n",
      "__________________________________________________________________________________________________\n",
      "Layer (type)                    Output Shape         Param #     Connected to                     \n",
      "==================================================================================================\n",
      "main_input (InputLayer)         (None, 200)          0                                            \n",
      "__________________________________________________________________________________________________\n",
      "embedding_7 (Embedding)         (None, 200, 15)      57183045    main_input[0][0]                 \n",
      "__________________________________________________________________________________________________\n",
      "bidirectional_7 (Bidirectional) (None, 200, 20)      2080        embedding_7[0][0]                \n",
      "__________________________________________________________________________________________________\n",
      "permute_5 (Permute)             (None, 20, 200)      0           bidirectional_7[0][0]            \n",
      "__________________________________________________________________________________________________\n",
      "dense_2 (Dense)                 (None, 20, 200)      40200       permute_5[0][0]                  \n",
      "__________________________________________________________________________________________________\n",
      "attention_vec (Permute)         (None, 200, 20)      0           dense_2[0][0]                    \n",
      "__________________________________________________________________________________________________\n",
      "attention_mul (Multiply)        (None, 200, 20)      0           bidirectional_7[0][0]            \n",
      "                                                                 attention_vec[0][0]              \n",
      "__________________________________________________________________________________________________\n",
      "global_average_pooling1d_1 (Glo (None, 20)           0           attention_mul[0][0]              \n",
      "__________________________________________________________________________________________________\n",
      "main_output (Dense)             (None, 10)           210         global_average_pooling1d_1[0][0] \n",
      "==================================================================================================\n",
      "Total params: 57,225,535\n",
      "Trainable params: 57,225,535\n",
      "Non-trainable params: 0\n",
      "__________________________________________________________________________________________________\n",
      "None\n"
     ]
    }
   ],
   "source": [
    "print(model.summary())"
   ]
  },
  {
   "cell_type": "code",
   "execution_count": 3,
   "metadata": {},
   "outputs": [
    {
     "name": "stdout",
     "output_type": "stream",
     "text": [
      "loading data ... \n",
      "\n",
      "get data ... \n",
      "\n"
     ]
    }
   ],
   "source": [
    "train_x, test_x, train_y_age, train_y_gender,test_y_age,test_y_gender = data_load()\n",
    "\n",
    "# train_x_sta, test_x_sta = load_data_sta()"
   ]
  },
  {
   "cell_type": "code",
   "execution_count": null,
   "metadata": {},
   "outputs": [
    {
     "name": "stdout",
     "output_type": "stream",
     "text": [
      "lstm model fit...\n",
      "\n",
      "Train on 720000 samples, validate on 180000 samples\n",
      "Epoch 1/100\n",
      "318720/720000 [============>.................] - ETA: 2:53:16 - loss: 1.6219 - accuracy: 0.3432"
     ]
    }
   ],
   "source": [
    "print('lstm model fit...\\n')\n",
    "checkpointer = keras.callbacks.ModelCheckpoint(\n",
    "    filepath=get_filename_for_saving(''),\n",
    "    save_best_only=False)\n",
    "stopping = keras.callbacks.EarlyStopping(patience=8)\n",
    "reduce_lr = keras.callbacks.ReduceLROnPlateau(factor=0.1, patience=2, min_lr=0.0001)\n",
    "\n",
    "# with h5py.File('../train_data_weight.h5', 'r') as f:\n",
    "#         weight = np.array(f.get('weight'))\n",
    "# train_w, test_w= train_test_split(weight, test_size=0.2, random_state=2020)\n",
    "\n",
    "# train_w = np.squeeze(train_w)\n",
    "# t_w = 10/np.log(train_w)\n",
    "\n",
    "\n",
    "model.fit({'main_input': train_x },#,'aux_input': train_x_sta},\n",
    "          {'main_output': train_y_age},\n",
    "          epochs=100,\n",
    "          batch_size=32,\n",
    "#           class_weight = {0:0.698, 1:0.520, 2:0.671, 3:0.698, 4:0.945,5:0.890, 6:0.986, 7:1. , 8:0.808,9:0.657},\n",
    "#           class_weight = {0:1.,1:2.159}\n",
    "#           sample_weight = t_w,\n",
    "          validation_data=({'main_input': test_x},#,'aux_input': test_x_sta},\n",
    "                           {'main_output': test_y_age}),\n",
    "          callbacks=[checkpointer, reduce_lr, stopping])"
   ]
  },
  {
   "cell_type": "code",
   "execution_count": null,
   "metadata": {},
   "outputs": [],
   "source": [
    "\n",
    "# pre = model.predict(test_x,verbose=1)\n",
    "\n",
    "# #评估结果\n",
    "# from sklearn.metrics import confusion_matrix, classification_report\n",
    "# y_ = np.reshape(np.argmax(test_y,axis=1),[-1])\n",
    "# pre_ = np.reshape(np.argmax(pre, axis=1),[-1])\n",
    "# #每个类的各项指标\n",
    "# cm = confusion_matrix(y_, pre_)\n",
    "# # np.set_printoptions(precision=3)\n",
    "# cm_normalized = cm.astype('float') / cm.sum(axis=1)[:, np.newaxis]\n",
    "# print(cm_normalized)\n",
    "# print(classification_report(y_, pre_))"
   ]
  }
 ],
 "metadata": {
  "kernelspec": {
   "display_name": "conda_tensorflow_py3",
   "language": "python",
   "name": "conda_tensorflow_py3"
  },
  "language_info": {
   "codemirror_mode": {
    "name": "ipython",
    "version": 3
   },
   "file_extension": ".py",
   "mimetype": "text/x-python",
   "name": "python",
   "nbconvert_exporter": "python",
   "pygments_lexer": "ipython3",
   "version": "3.6.5"
  }
 },
 "nbformat": 4,
 "nbformat_minor": 4
}
