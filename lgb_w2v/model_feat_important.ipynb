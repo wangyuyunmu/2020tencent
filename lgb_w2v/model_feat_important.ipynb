{
 "cells": [
  {
   "cell_type": "code",
   "execution_count": 1,
   "metadata": {},
   "outputs": [],
   "source": [
    "import pandas as pd\n",
    "import numpy as np\n",
    "import lightgbm as lgb\n",
    "import gc\n",
    "from sklearn.model_selection import train_test_split\n",
    "from sklearn.metrics import confusion_matrix,classification_report,accuracy_score\n",
    "from sklearn.preprocessing import StandardScaler\n",
    "import joblib\n",
    "np.random.seed(2020)\n"
   ]
  },
  {
   "cell_type": "code",
   "execution_count": 5,
   "metadata": {},
   "outputs": [
    {
     "name": "stdout",
     "output_type": "stream",
     "text": [
      "loading model ....\n",
      "over ....\n"
     ]
    }
   ],
   "source": [
    "print('loading model ....')\n",
    "model = joblib.load('../w2v_model1/w2v_lgb_age_1.pkl')\n",
    "print('over ....')"
   ]
  },
  {
   "cell_type": "code",
   "execution_count": 15,
   "metadata": {},
   "outputs": [],
   "source": [
    "feat_imp = model.feature_importances_\n"
   ]
  },
  {
   "cell_type": "code",
   "execution_count": 16,
   "metadata": {},
   "outputs": [],
   "source": [
    "imp_ind = np.argsort(feat_imp)"
   ]
  },
  {
   "cell_type": "code",
   "execution_count": 17,
   "metadata": {},
   "outputs": [
    {
     "data": {
      "text/plain": [
       "array([ 51,  49, 588, 440, 462, 570,  11, 578,  42, 354,  91, 317, 107,\n",
       "       331, 215, 504, 572, 199, 105,  16, 396, 345, 442, 577, 385,  46,\n",
       "       368,  38, 377, 363,  35, 182, 515, 338, 573, 367, 388, 341, 280,\n",
       "        81, 362, 323, 183, 523, 342, 387, 136, 329, 555, 392, 350, 310,\n",
       "       313, 373, 513, 492, 126, 314, 303, 472, 580,  59, 137, 384, 308,\n",
       "       558,  99, 399, 307, 495, 393, 227, 374, 370, 500, 321, 398, 357,\n",
       "        93, 326, 351, 140, 309, 356, 372, 544, 519, 211,  67, 175, 381,\n",
       "       178, 349, 378,   0,   4, 529, 582, 330, 437, 339, 576, 369, 346,\n",
       "       168, 376, 382, 404, 302, 113, 335, 383,  40, 167, 318, 311, 536,\n",
       "       315, 119, 480, 454,  39, 413, 364, 360, 325, 386, 352, 461, 320,\n",
       "       359, 410, 417, 153, 259, 559,  63, 110, 561, 337, 333, 322, 412,\n",
       "       139, 316, 257, 586, 165, 539, 551,  37, 327, 507, 397, 424,  90,\n",
       "       371,  72, 436, 319, 306, 334, 304, 324,  15, 394, 488, 184, 389,\n",
       "       366, 545, 543, 444, 375, 456, 414, 358, 395, 361, 391,  75, 242,\n",
       "       336, 532, 143, 312, 494, 290, 524, 348, 262, 133, 554, 305, 478,\n",
       "       490,  32, 380, 450,  23, 115, 301, 353, 332,  18,  21, 173, 112,\n",
       "       416, 415, 522, 418, 340, 125, 449, 300, 347, 177, 142, 453, 587,\n",
       "        87,  69, 598, 441,  24,  83, 203, 469, 174, 407, 124, 355, 328,\n",
       "       197, 542, 169,  71,  53, 483, 195, 549, 344, 155, 541, 103, 390,\n",
       "       464,  74, 566, 176, 208, 434, 585,  82, 180, 518, 379, 439, 405,\n",
       "       565, 291, 117, 365, 516, 448,  30, 548, 423,  41, 273, 144, 568,\n",
       "       503, 422, 186, 426,  54, 276, 510,  36, 299, 152, 476, 546, 589,\n",
       "       579,  27, 109, 343,   9, 498, 591, 130, 284, 401, 100, 121,   8,\n",
       "       244, 427, 459, 229, 584,  85, 425, 511, 156, 574,  33, 475, 452,\n",
       "       465, 420, 181, 288, 563,  96, 254, 438,  84,   6, 433, 278, 132,\n",
       "       597, 190,  97, 514, 593, 233, 266,  48, 527, 123, 562,  55, 473,\n",
       "       445, 560, 403, 512,  68, 406, 282, 245, 471, 533, 428, 463, 457,\n",
       "       505, 484, 506, 272, 447, 594, 170, 253,  31, 517,   2,  56, 571,\n",
       "       268, 232, 114,  76, 194, 432, 164, 509, 525, 470, 116, 485, 193,\n",
       "       185,  50, 487, 537, 489, 408, 150, 482,  61, 446, 235, 501, 210,\n",
       "       538, 213, 239, 411,  57,   5, 595, 256, 157, 550,  34, 429, 285,\n",
       "       466, 467,   3,  70,   1, 531, 496, 534, 431, 526, 179, 451, 104,\n",
       "       564, 479,  14, 421, 271, 552, 443,  64, 419, 108, 583, 596, 161,\n",
       "       590, 508, 147, 234, 283,  44, 535, 172, 154, 277, 502,  98, 402,\n",
       "       238, 575, 189,  95, 225,  92, 265, 581, 171, 206, 521, 409, 212,\n",
       "       493, 255, 217, 499, 547, 295, 474,  10, 477, 226, 187, 486, 191,\n",
       "       228, 400, 481, 237, 540, 292, 163, 120, 264, 599, 127,  17,  20,\n",
       "       118, 196, 102, 557, 430, 520,  58, 497, 528, 553, 530, 149, 134,\n",
       "       569, 214, 200, 151, 122,  79, 460, 220, 294, 261,  25, 101, 260,\n",
       "       188, 491, 252, 148, 128,  62, 106,  66, 216,  86, 458,  43, 160,\n",
       "       455, 281, 219, 241, 249,   7, 293, 198, 263, 230, 207, 279, 592,\n",
       "        88, 251, 287, 296,  89,  78, 162, 204, 248, 275, 468,  29, 138,\n",
       "       202, 267, 159, 274, 258, 135, 250, 221, 240,  60, 129, 247, 298,\n",
       "       231, 435,  13, 218, 201,  45, 131, 236,  77,  80,  65,  94,  47,\n",
       "       556,  73,  19, 158, 209, 269, 166, 567,  12, 111,  22,  28, 297,\n",
       "       145, 270, 289, 205,  52, 223, 243, 192, 286, 224, 141,  26, 222,\n",
       "       146, 246])"
      ]
     },
     "execution_count": 17,
     "metadata": {},
     "output_type": "execute_result"
    }
   ],
   "source": [
    "imp_ind"
   ]
  },
  {
   "cell_type": "code",
   "execution_count": 9,
   "metadata": {},
   "outputs": [
    {
     "data": {
      "image/png": "[encoded data removed]",
      "text/plain": [
       "<Figure size 432x288 with 1 Axes>"
      ]
     },
     "metadata": {
      "needs_background": "light"
     },
     "output_type": "display_data"
    }
   ],
   "source": [
    "import matplotlib.pyplot as plt\n",
    "plt.plot(feat_imp_sort)\n",
    "plt.show()"
   ]
  },
  {
   "cell_type": "code",
   "execution_count": null,
   "metadata": {},
   "outputs": [],
   "source": []
  }
 ],
 "metadata": {
  "kernelspec": {
   "display_name": "conda_python3",
   "language": "python",
   "name": "conda_python3"
  },
  "language_info": {
   "codemirror_mode": {
    "name": "ipython",
    "version": 3
   },
   "file_extension": ".py",
   "mimetype": "text/x-python",
   "name": "python",
   "nbconvert_exporter": "python",
   "pygments_lexer": "ipython3",
   "version": "3.6.5"
  }
 },
 "nbformat": 4,
 "nbformat_minor": 4
}
