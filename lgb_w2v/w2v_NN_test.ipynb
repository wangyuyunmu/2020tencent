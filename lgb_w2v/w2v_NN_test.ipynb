{
 "cells": [
  {
   "cell_type": "code",
   "execution_count": 2,
   "metadata": {
    "collapsed": true,
    "jupyter": {
     "outputs_hidden": true
    }
   },
   "outputs": [
    {
     "name": "stdout",
     "output_type": "stream",
     "text": [
      "Looking in indexes: http://mirrors.tencentyun.com/pypi/simple\n",
      "Collecting lightgbm\n",
      "  Downloading http://mirrors.tencentyun.com/pypi/packages/0b/9d/ddcb2f43aca194987f1a99e27edf41cf9bc39ea750c3371c2a62698c509a/lightgbm-2.3.1-py2.py3-none-manylinux1_x86_64.whl (1.2 MB)\n",
      "\u001b[K     |████████████████████████████████| 1.2 MB 865 kB/s eta 0:00:01\n",
      "\u001b[?25hRequirement already satisfied: scipy in /opt/conda/envs/python3/lib/python3.6/site-packages (from lightgbm) (1.4.1)\n",
      "Requirement already satisfied: scikit-learn in /opt/conda/envs/python3/lib/python3.6/site-packages (from lightgbm) (0.22.1)\n",
      "Requirement already satisfied: numpy in /opt/conda/envs/python3/lib/python3.6/site-packages (from lightgbm) (1.18.1)\n",
      "Requirement already satisfied: joblib>=0.11 in /opt/conda/envs/python3/lib/python3.6/site-packages (from scikit-learn->lightgbm) (0.14.1)\n",
      "Installing collected packages: lightgbm\n",
      "Successfully installed lightgbm-2.3.1\n"
     ]
    }
   ],
   "source": [
    "!pip install lightgbm"
   ]
  },
  {
   "cell_type": "code",
   "execution_count": 2,
   "metadata": {},
   "outputs": [
    {
     "name": "stdout",
     "output_type": "stream",
     "text": [
      "Looking in indexes: http://mirrors.tencentyun.com/pypi/simple\n",
      "Requirement already satisfied: joblib in /opt/conda/envs/python3/lib/python3.6/site-packages (0.14.1)\n"
     ]
    }
   ],
   "source": [
    "!pip install joblib"
   ]
  },
  {
   "cell_type": "code",
   "execution_count": 9,
   "metadata": {},
   "outputs": [],
   "source": [
    "import pandas as pd\n",
    "import numpy as np\n",
    "import lightgbm as lgb\n",
    "import gc\n",
    "from sklearn.neural_network import MLPClassifier\n",
    "from sklearn.model_selection import train_test_split\n",
    "from sklearn.metrics import confusion_matrix,classification_report,accuracy_score\n",
    "from sklearn.preprocessing import StandardScaler\n",
    "import joblib\n",
    "np.random.seed(2020)\n",
    "\n",
    "def nn_model_age(train_x, test_x,train_y, test_y):\n",
    "#     model = MLPClassifier(hidden_layer_sizes = (600,400,10),\n",
    "#                           learning_rate = 'adaptive',\n",
    "#                         learning_rate_init = 1,\n",
    "# #                         early_stopping=True,\n",
    "#                         max_iter=10000,\n",
    "#                         verbose=10)\n",
    "#     model.fit(train_x, train_y)\n",
    "    model = joblib.load('w2v_nn_age_1.pkl')\n",
    "#     \n",
    "#     joblib.dump(model, 'w2v_nn_age_1.pkl')\n",
    "    \n",
    "    y_t_pred = model.predict(test_x)\n",
    "    \n",
    "    # print(model.get_score(importance_type='weight'))\n",
    "    cm = confusion_matrix(test_y, y_t_pred)\n",
    "    np.set_printoptions(precision=3)                                    # 显示精度\n",
    "    cm_normalized = cm.astype('float') / cm.sum(axis=1)[:, np.newaxis]  # 将样本矩阵转化为比率\n",
    "\n",
    "    print('age************************************')\n",
    "    print('confusion_matrix is \\n {:} \\n '.format(cm_normalized))\n",
    "    print('test acc is \\n {:} \\n '.format(np.sum(test_y==y_t_pred)/len(test_y)))\n",
    "    print(classification_report(test_y,y_t_pred))\n",
    "    print('accuracy is %f , sen is %f,spe is %f ' % (accuracy_score(test_y, y_t_pred) * 100,\n",
    "                                                     cm_normalized[0][0],cm_normalized[1][1] ))\n",
    "\n",
    "    return accuracy_score(test_y, y_t_pred)\n",
    "\n",
    "def nn_model_gender(train_x, test_x,train_y, test_y):\n",
    "#     model = MLPClassifier(hidden_layer_sizes = (600,400,2),\n",
    "#                           learning_rate = 'adaptive',\n",
    "#                         learning_rate_init = 1,\n",
    "# #                         early_stopping=True,\n",
    "#                         max_iter=10000,\n",
    "#                         verbose=10)\n",
    "#     model.fit(train_x, train_y)\n",
    "    \n",
    "    model = joblib.load('w2v_nn_age_1.pkl')\n",
    "    \n",
    "#     joblib.dump(model, 'w2v_nn_gender_1.pkl')\n",
    "    \n",
    "    y_t_pred = model.predict(test_x)\n",
    "    \n",
    "    # print(model.get_score(importance_type='weight'))\n",
    "    cm = confusion_matrix(test_y, y_t_pred)\n",
    "    np.set_printoptions(precision=3)                                    # 显示精度\n",
    "    cm_normalized = cm.astype('float') / cm.sum(axis=1)[:, np.newaxis]  # 将样本矩阵转化为比率\n",
    "\n",
    "    print('age************************************')\n",
    "    print('confusion_matrix is \\n {:} \\n '.format(cm_normalized))\n",
    "    print('test acc is \\n {:} \\n '.format(np.sum(test_y==y_t_pred)/len(test_y)))\n",
    "    print(classification_report(test_y,y_t_pred))\n",
    "    print('accuracy is %f , sen is %f,spe is %f ' % (accuracy_score(test_y, y_t_pred) * 100,\n",
    "                                                     cm_normalized[0][0],cm_normalized[1][1] ))\n",
    "\n",
    "    return accuracy_score(test_y, y_t_pred)\n",
    "\n",
    "def load_data():\n",
    "    # user\n",
    "    data = pd.read_csv('../w2v_feat_data/train_data.csv')\n",
    "    label = data[['age','gender']]\n",
    "    \n",
    "    data = data.drop(['user_id','age','gender'],axis = 1)\n",
    "    return data,label"
   ]
  },
  {
   "cell_type": "code",
   "execution_count": 2,
   "metadata": {},
   "outputs": [],
   "source": [
    "data,label = load_data()"
   ]
  },
  {
   "cell_type": "code",
   "execution_count": 6,
   "metadata": {},
   "outputs": [],
   "source": [
    "#划分age的训练和测试数据\n",
    "train_x, test_x, train_y, test_y = train_test_split(data, label, test_size=0.8,random_state=2020)"
   ]
  },
  {
   "cell_type": "code",
   "execution_count": 7,
   "metadata": {},
   "outputs": [],
   "source": [
    "stand = StandardScaler()\n",
    "stand.fit(train_x)\n",
    "train_x,test_x = stand.transform(train_x),stand.transform(test_x)"
   ]
  },
  {
   "cell_type": "code",
   "execution_count": 10,
   "metadata": {},
   "outputs": [
    {
     "name": "stdout",
     "output_type": "stream",
     "text": [
      "age************************************\n",
      "confusion_matrix is \n",
      " [[0. 0. 1. 0. 0. 0. 0. 0. 0. 0.]\n",
      " [0. 0. 1. 0. 0. 0. 0. 0. 0. 0.]\n",
      " [0. 0. 1. 0. 0. 0. 0. 0. 0. 0.]\n",
      " [0. 0. 1. 0. 0. 0. 0. 0. 0. 0.]\n",
      " [0. 0. 1. 0. 0. 0. 0. 0. 0. 0.]\n",
      " [0. 0. 1. 0. 0. 0. 0. 0. 0. 0.]\n",
      " [0. 0. 1. 0. 0. 0. 0. 0. 0. 0.]\n",
      " [0. 0. 1. 0. 0. 0. 0. 0. 0. 0.]\n",
      " [0. 0. 1. 0. 0. 0. 0. 0. 0. 0.]\n",
      " [0. 0. 1. 0. 0. 0. 0. 0. 0. 0.]] \n",
      " \n",
      "test acc is \n",
      " 0.22575555555555554 \n",
      " \n"
     ]
    },
    {
     "name": "stderr",
     "output_type": "stream",
     "text": [
      "/opt/conda/envs/python3/lib/python3.6/site-packages/sklearn/metrics/_classification.py:1272: UndefinedMetricWarning: Precision and F-score are ill-defined and being set to 0.0 in labels with no predicted samples. Use `zero_division` parameter to control this behavior.\n",
      "  _warn_prf(average, modifier, msg_start, len(result))\n"
     ]
    },
    {
     "name": "stdout",
     "output_type": "stream",
     "text": [
      "              precision    recall  f1-score   support\n",
      "\n",
      "           1       0.00      0.00      0.00     28152\n",
      "           2       0.00      0.00      0.00    119340\n",
      "           3       0.23      1.00      0.37    162544\n",
      "           4       0.00      0.00      0.00    120370\n",
      "           5       0.00      0.00      0.00    104471\n",
      "           6       0.00      0.00      0.00     81438\n",
      "           7       0.00      0.00      0.00     53362\n",
      "           8       0.00      0.00      0.00     25452\n",
      "           9       0.00      0.00      0.00     15590\n",
      "          10       0.00      0.00      0.00      9281\n",
      "\n",
      "    accuracy                           0.23    720000\n",
      "   macro avg       0.02      0.10      0.04    720000\n",
      "weighted avg       0.05      0.23      0.08    720000\n",
      "\n",
      "accuracy is 22.575556 , sen is 0.000000,spe is 0.000000 \n"
     ]
    },
    {
     "name": "stderr",
     "output_type": "stream",
     "text": [
      "/opt/conda/envs/python3/lib/python3.6/site-packages/ipykernel/__main__.py:58: RuntimeWarning: invalid value encountered in true_divide\n"
     ]
    },
    {
     "name": "stdout",
     "output_type": "stream",
     "text": [
      "age************************************\n",
      "confusion_matrix is \n",
      " [[ 0.  0.  1.]\n",
      " [ 0.  0.  1.]\n",
      " [nan nan nan]] \n",
      " \n",
      "test acc is \n",
      " 0.0 \n",
      " \n"
     ]
    },
    {
     "name": "stderr",
     "output_type": "stream",
     "text": [
      "/opt/conda/envs/python3/lib/python3.6/site-packages/sklearn/metrics/_classification.py:1272: UndefinedMetricWarning: Precision and F-score are ill-defined and being set to 0.0 in labels with no predicted samples. Use `zero_division` parameter to control this behavior.\n",
      "  _warn_prf(average, modifier, msg_start, len(result))\n",
      "/opt/conda/envs/python3/lib/python3.6/site-packages/sklearn/metrics/_classification.py:1272: UndefinedMetricWarning: Recall and F-score are ill-defined and being set to 0.0 in labels with no true samples. Use `zero_division` parameter to control this behavior.\n",
      "  _warn_prf(average, modifier, msg_start, len(result))\n"
     ]
    },
    {
     "name": "stdout",
     "output_type": "stream",
     "text": [
      "              precision    recall  f1-score   support\n",
      "\n",
      "           1       0.00      0.00      0.00  482193.0\n",
      "           2       0.00      0.00      0.00  237807.0\n",
      "           3       0.00      0.00      0.00       0.0\n",
      "\n",
      "    accuracy                           0.00  720000.0\n",
      "   macro avg       0.00      0.00      0.00  720000.0\n",
      "weighted avg       0.00      0.00      0.00  720000.0\n",
      "\n",
      "accuracy is 0.000000 , sen is 0.000000,spe is 0.000000 \n"
     ]
    }
   ],
   "source": [
    "# 训练模型\n",
    "acc_age = nn_model_age(train_x, test_x,train_y['age'], test_y['age'])\n",
    "acc_gender = nn_model_gender(train_x, test_x,train_y['gender'], test_y['gender'])"
   ]
  },
  {
   "cell_type": "code",
   "execution_count": null,
   "metadata": {},
   "outputs": [],
   "source": []
  }
 ],
 "metadata": {
  "kernelspec": {
   "display_name": "conda_python3",
   "language": "python",
   "name": "conda_python3"
  },
  "language_info": {
   "codemirror_mode": {
    "name": "ipython",
    "version": 3
   },
   "file_extension": ".py",
   "mimetype": "text/x-python",
   "name": "python",
   "nbconvert_exporter": "python",
   "pygments_lexer": "ipython3",
   "version": "3.6.5"
  }
 },
 "nbformat": 4,
 "nbformat_minor": 4
}
