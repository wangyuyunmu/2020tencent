{
 "cells": [
  {
   "cell_type": "code",
   "execution_count": 2,
   "metadata": {
    "collapsed": true,
    "jupyter": {
     "outputs_hidden": true
    }
   },
   "outputs": [
    {
     "name": "stdout",
     "output_type": "stream",
     "text": [
      "Looking in indexes: http://mirrors.tencentyun.com/pypi/simple\n",
      "Collecting lightgbm\n",
      "  Downloading http://mirrors.tencentyun.com/pypi/packages/0b/9d/ddcb2f43aca194987f1a99e27edf41cf9bc39ea750c3371c2a62698c509a/lightgbm-2.3.1-py2.py3-none-manylinux1_x86_64.whl (1.2 MB)\n",
      "\u001b[K     |████████████████████████████████| 1.2 MB 819 kB/s eta 0:00:01\n",
      "\u001b[?25hRequirement already satisfied: numpy in /opt/conda/envs/python3/lib/python3.6/site-packages (from lightgbm) (1.18.1)\n",
      "Requirement already satisfied: scipy in /opt/conda/envs/python3/lib/python3.6/site-packages (from lightgbm) (1.4.1)\n",
      "Requirement already satisfied: scikit-learn in /opt/conda/envs/python3/lib/python3.6/site-packages (from lightgbm) (0.22.1)\n",
      "Requirement already satisfied: joblib>=0.11 in /opt/conda/envs/python3/lib/python3.6/site-packages (from scikit-learn->lightgbm) (0.14.1)\n",
      "Installing collected packages: lightgbm\n",
      "Successfully installed lightgbm-2.3.1\n"
     ]
    }
   ],
   "source": [
    "!pip install lightgbm"
   ]
  },
  {
   "cell_type": "code",
   "execution_count": 3,
   "metadata": {
    "collapsed": true,
    "jupyter": {
     "outputs_hidden": true
    }
   },
   "outputs": [
    {
     "name": "stdout",
     "output_type": "stream",
     "text": [
      "Looking in indexes: http://mirrors.tencentyun.com/pypi/simple\n",
      "Collecting bayesian-optimization\n",
      "  Downloading http://mirrors.tencentyun.com/pypi/packages/bb/7a/fd8059a3881d3ab37ac8f72f56b73937a14e8bb14a9733e68cc8b17dbe3c/bayesian-optimization-1.2.0.tar.gz (14 kB)\n",
      "Requirement already satisfied: numpy>=1.9.0 in /opt/conda/envs/python3/lib/python3.6/site-packages (from bayesian-optimization) (1.18.1)\n",
      "Requirement already satisfied: scipy>=0.14.0 in /opt/conda/envs/python3/lib/python3.6/site-packages (from bayesian-optimization) (1.4.1)\n",
      "Requirement already satisfied: scikit-learn>=0.18.0 in /opt/conda/envs/python3/lib/python3.6/site-packages (from bayesian-optimization) (0.22.1)\n",
      "Requirement already satisfied: joblib>=0.11 in /opt/conda/envs/python3/lib/python3.6/site-packages (from scikit-learn>=0.18.0->bayesian-optimization) (0.14.1)\n",
      "Building wheels for collected packages: bayesian-optimization\n",
      "  Building wheel for bayesian-optimization (setup.py) ... \u001b[?25ldone\n",
      "\u001b[?25h  Created wheel for bayesian-optimization: filename=bayesian_optimization-1.2.0-py3-none-any.whl size=11684 sha256=56360bcf19985b8fbd7880f4e6429da9d72d548b9dff9a19ea621f2a5ad58759\n",
      "  Stored in directory: /home/tione/.cache/pip/wheels/fd/cc/65/a1df5517b6cbf53d499363834b1e5b069376f89de749ae567e\n",
      "Successfully built bayesian-optimization\n",
      "Installing collected packages: bayesian-optimization\n",
      "Successfully installed bayesian-optimization-1.2.0\n"
     ]
    }
   ],
   "source": [
    "!pip install bayesian-optimization"
   ]
  },
  {
   "cell_type": "code",
   "execution_count": 4,
   "metadata": {},
   "outputs": [],
   "source": [
    "import pandas as pd\n",
    "import numpy as np\n",
    "import lightgbm as lgb\n",
    "import gc\n",
    "from sklearn.model_selection import train_test_split,cross_val_score\n",
    "from sklearn.metrics import confusion_matrix,classification_report,accuracy_score\n",
    "import matplotlib.pyplot as plt\n",
    "from sklearn.preprocessing import StandardScaler,PolynomialFeatures,MinMaxScaler\n",
    "from bayes_opt import BayesianOptimization\n",
    "import joblib\n",
    "import time\n",
    "np.random.seed(2020)\n",
    "\n",
    "\n",
    "def lgb_model_age(learning_rate,subsample,colsample_bytree,num_leaves,reg_alpha,reg_lambda):\n",
    "    params = {'objective':'multiclass',\n",
    "              'num_class' : 10,\n",
    "             'n_estimators':200}\n",
    "    \n",
    "    params['num_leaves'] = int(num_leaves)\n",
    "    params['learning_rate'] = float(learning_rate)\n",
    "    params['subsample'] = float(subsample)\n",
    "    params['colsample_bytree'] = float(colsample_bytree)\n",
    "    params['reg_alpha'] = float(reg_alpha)\n",
    "    params['reg_lambda'] = float(reg_lambda)\n",
    "    \n",
    "    model = lgb.LGBMClassifier(**params)\n",
    "    val = cross_val_score(model,data,label_age,cv = 5).mean()\n",
    "    return val\n",
    "\n",
    "def lgb_model_gender(learning_rate,subsample,colsample_bytree,num_leaves,reg_alpha,reg_lambda):\n",
    "    params = {'objective':'binary',\n",
    "             'n_estimators':200}\n",
    "    \n",
    "    params['num_leaves'] = int(num_leaves)\n",
    "    params['learning_rate'] = float(learning_rate)\n",
    "    params['subsample'] = float(subsample)\n",
    "    params['colsample_bytree'] = float(colsample_bytree)\n",
    "    params['reg_alpha'] = float(reg_alpha)\n",
    "    params['reg_lambda'] = float(reg_lambda)\n",
    "    \n",
    "    model = lgb.LGBMClassifier(**params)\n",
    "    val = cross_val_score(model,data,label_gender,cv = 5).mean()\n",
    "    return val\n",
    "\n",
    "def load_data():\n",
    "    # user\n",
    "    data = pd.read_csv('../w2v_feat_data/train_data.csv')\n",
    "    data = data.head(10000)\n",
    "    label = data[['age','gender']]\n",
    "    \n",
    "    data = data.drop(['user_id','age','gender'],axis = 1)\n",
    "    return data,label"
   ]
  },
  {
   "cell_type": "code",
   "execution_count": 5,
   "metadata": {},
   "outputs": [],
   "source": [
    "data,label = load_data()\n",
    "label_gender = label['gender']\n",
    "label_age = label['age']"
   ]
  },
  {
   "cell_type": "code",
   "execution_count": 15,
   "metadata": {
    "collapsed": true,
    "jupyter": {
     "outputs_hidden": true,
     "source_hidden": true
    }
   },
   "outputs": [
    {
     "name": "stdout",
     "output_type": "stream",
     "text": [
      "|   iter    |  target   | colsam... | learni... | num_le... | reg_alpha | reg_la... | subsample |\n",
      "-------------------------------------------------------------------------------------------------\n",
      "| \u001b[0m 1       \u001b[0m | \u001b[0m 0.264   \u001b[0m | \u001b[0m 0.3386  \u001b[0m | \u001b[0m 0.06542 \u001b[0m | \u001b[0m 96.71   \u001b[0m | \u001b[0m 0.0922  \u001b[0m | \u001b[0m 0.04357 \u001b[0m | \u001b[0m 0.3792  \u001b[0m |\n",
      "| \u001b[0m 2       \u001b[0m | \u001b[0m 0.262   \u001b[0m | \u001b[0m 0.286   \u001b[0m | \u001b[0m 0.3376  \u001b[0m | \u001b[0m 89.2    \u001b[0m | \u001b[0m 0.05591 \u001b[0m | \u001b[0m 0.03175 \u001b[0m | \u001b[0m 0.1343  \u001b[0m |\n"
     ]
    },
    {
     "ename": "KeyboardInterrupt",
     "evalue": "",
     "output_type": "error",
     "traceback": [
      "\u001b[0;31m---------------------------------------------------------------------------\u001b[0m",
      "\u001b[0;31mKeyError\u001b[0m                                  Traceback (most recent call last)",
      "\u001b[0;32m/opt/conda/envs/python3/lib/python3.6/site-packages/bayes_opt/target_space.py\u001b[0m in \u001b[0;36mprobe\u001b[0;34m(self, params)\u001b[0m\n\u001b[1;32m    190\u001b[0m         \u001b[0;32mtry\u001b[0m\u001b[0;34m:\u001b[0m\u001b[0;34m\u001b[0m\u001b[0m\n\u001b[0;32m--> 191\u001b[0;31m             \u001b[0mtarget\u001b[0m \u001b[0;34m=\u001b[0m \u001b[0mself\u001b[0m\u001b[0;34m.\u001b[0m\u001b[0m_cache\u001b[0m\u001b[0;34m[\u001b[0m\u001b[0m_hashable\u001b[0m\u001b[0;34m(\u001b[0m\u001b[0mx\u001b[0m\u001b[0;34m)\u001b[0m\u001b[0;34m]\u001b[0m\u001b[0;34m\u001b[0m\u001b[0m\n\u001b[0m\u001b[1;32m    192\u001b[0m         \u001b[0;32mexcept\u001b[0m \u001b[0mKeyError\u001b[0m\u001b[0;34m:\u001b[0m\u001b[0;34m\u001b[0m\u001b[0m\n",
      "\u001b[0;31mKeyError\u001b[0m: (0.7483567545071124, 0.31545795567243823, 37.397587378814606, 0.0738635844619736, 0.015449422432908033, 0.8829171284228948)",
      "\nDuring handling of the above exception, another exception occurred:\n",
      "\u001b[0;31mKeyboardInterrupt\u001b[0m                         Traceback (most recent call last)",
      "\u001b[0;32m<ipython-input-15-afb9b3646373>\u001b[0m in \u001b[0;36m<module>\u001b[0;34m\u001b[0m\n\u001b[1;32m     10\u001b[0m \u001b[0mstar\u001b[0m \u001b[0;34m=\u001b[0m \u001b[0mtime\u001b[0m\u001b[0;34m.\u001b[0m\u001b[0mtime\u001b[0m\u001b[0;34m(\u001b[0m\u001b[0;34m)\u001b[0m\u001b[0;34m\u001b[0m\u001b[0m\n\u001b[1;32m     11\u001b[0m \u001b[0mage_bayes\u001b[0m \u001b[0;34m=\u001b[0m \u001b[0mBayesianOptimization\u001b[0m\u001b[0;34m(\u001b[0m\u001b[0mlgb_model_age\u001b[0m\u001b[0;34m,\u001b[0m \u001b[0mpbounds\u001b[0m\u001b[0;34m=\u001b[0m\u001b[0mparam_dist_age\u001b[0m\u001b[0;34m)\u001b[0m\u001b[0;34m\u001b[0m\u001b[0m\n\u001b[0;32m---> 12\u001b[0;31m \u001b[0mage_bayes\u001b[0m\u001b[0;34m.\u001b[0m\u001b[0mmaximize\u001b[0m\u001b[0;34m(\u001b[0m\u001b[0minit_points\u001b[0m\u001b[0;34m=\u001b[0m\u001b[0;36m5\u001b[0m\u001b[0;34m,\u001b[0m \u001b[0mn_iter\u001b[0m\u001b[0;34m=\u001b[0m\u001b[0;36m25\u001b[0m\u001b[0;34m)\u001b[0m\u001b[0;34m\u001b[0m\u001b[0m\n\u001b[0m\u001b[1;32m     13\u001b[0m \u001b[0mprint\u001b[0m\u001b[0;34m(\u001b[0m\u001b[0;34m'age param  is \\n'\u001b[0m\u001b[0;34m,\u001b[0m\u001b[0mage_bayes\u001b[0m\u001b[0;34m.\u001b[0m\u001b[0mmax\u001b[0m\u001b[0;34m)\u001b[0m\u001b[0;34m\u001b[0m\u001b[0m\n\u001b[1;32m     14\u001b[0m \u001b[0mend\u001b[0m \u001b[0;34m=\u001b[0m \u001b[0mtime\u001b[0m\u001b[0;34m.\u001b[0m\u001b[0mtime\u001b[0m\u001b[0;34m(\u001b[0m\u001b[0;34m)\u001b[0m\u001b[0;34m\u001b[0m\u001b[0m\n",
      "\u001b[0;32m/opt/conda/envs/python3/lib/python3.6/site-packages/bayes_opt/bayesian_optimization.py\u001b[0m in \u001b[0;36mmaximize\u001b[0;34m(self, init_points, n_iter, acq, kappa, kappa_decay, kappa_decay_delay, xi, **gp_params)\u001b[0m\n\u001b[1;32m    183\u001b[0m                 \u001b[0miteration\u001b[0m \u001b[0;34m+=\u001b[0m \u001b[0;36m1\u001b[0m\u001b[0;34m\u001b[0m\u001b[0m\n\u001b[1;32m    184\u001b[0m \u001b[0;34m\u001b[0m\u001b[0m\n\u001b[0;32m--> 185\u001b[0;31m             \u001b[0mself\u001b[0m\u001b[0;34m.\u001b[0m\u001b[0mprobe\u001b[0m\u001b[0;34m(\u001b[0m\u001b[0mx_probe\u001b[0m\u001b[0;34m,\u001b[0m \u001b[0mlazy\u001b[0m\u001b[0;34m=\u001b[0m\u001b[0;32mFalse\u001b[0m\u001b[0;34m)\u001b[0m\u001b[0;34m\u001b[0m\u001b[0m\n\u001b[0m\u001b[1;32m    186\u001b[0m \u001b[0;34m\u001b[0m\u001b[0m\n\u001b[1;32m    187\u001b[0m             \u001b[0;32mif\u001b[0m \u001b[0mself\u001b[0m\u001b[0;34m.\u001b[0m\u001b[0m_bounds_transformer\u001b[0m\u001b[0;34m:\u001b[0m\u001b[0;34m\u001b[0m\u001b[0m\n",
      "\u001b[0;32m/opt/conda/envs/python3/lib/python3.6/site-packages/bayes_opt/bayesian_optimization.py\u001b[0m in \u001b[0;36mprobe\u001b[0;34m(self, params, lazy)\u001b[0m\n\u001b[1;32m    114\u001b[0m             \u001b[0mself\u001b[0m\u001b[0;34m.\u001b[0m\u001b[0m_queue\u001b[0m\u001b[0;34m.\u001b[0m\u001b[0madd\u001b[0m\u001b[0;34m(\u001b[0m\u001b[0mparams\u001b[0m\u001b[0;34m)\u001b[0m\u001b[0;34m\u001b[0m\u001b[0m\n\u001b[1;32m    115\u001b[0m         \u001b[0;32melse\u001b[0m\u001b[0;34m:\u001b[0m\u001b[0;34m\u001b[0m\u001b[0m\n\u001b[0;32m--> 116\u001b[0;31m             \u001b[0mself\u001b[0m\u001b[0;34m.\u001b[0m\u001b[0m_space\u001b[0m\u001b[0;34m.\u001b[0m\u001b[0mprobe\u001b[0m\u001b[0;34m(\u001b[0m\u001b[0mparams\u001b[0m\u001b[0;34m)\u001b[0m\u001b[0;34m\u001b[0m\u001b[0m\n\u001b[0m\u001b[1;32m    117\u001b[0m             \u001b[0mself\u001b[0m\u001b[0;34m.\u001b[0m\u001b[0mdispatch\u001b[0m\u001b[0;34m(\u001b[0m\u001b[0mEvents\u001b[0m\u001b[0;34m.\u001b[0m\u001b[0mOPTIMIZATION_STEP\u001b[0m\u001b[0;34m)\u001b[0m\u001b[0;34m\u001b[0m\u001b[0m\n\u001b[1;32m    118\u001b[0m \u001b[0;34m\u001b[0m\u001b[0m\n",
      "\u001b[0;32m/opt/conda/envs/python3/lib/python3.6/site-packages/bayes_opt/target_space.py\u001b[0m in \u001b[0;36mprobe\u001b[0;34m(self, params)\u001b[0m\n\u001b[1;32m    192\u001b[0m         \u001b[0;32mexcept\u001b[0m \u001b[0mKeyError\u001b[0m\u001b[0;34m:\u001b[0m\u001b[0;34m\u001b[0m\u001b[0m\n\u001b[1;32m    193\u001b[0m             \u001b[0mparams\u001b[0m \u001b[0;34m=\u001b[0m \u001b[0mdict\u001b[0m\u001b[0;34m(\u001b[0m\u001b[0mzip\u001b[0m\u001b[0;34m(\u001b[0m\u001b[0mself\u001b[0m\u001b[0;34m.\u001b[0m\u001b[0m_keys\u001b[0m\u001b[0;34m,\u001b[0m \u001b[0mx\u001b[0m\u001b[0;34m)\u001b[0m\u001b[0;34m)\u001b[0m\u001b[0;34m\u001b[0m\u001b[0m\n\u001b[0;32m--> 194\u001b[0;31m             \u001b[0mtarget\u001b[0m \u001b[0;34m=\u001b[0m \u001b[0mself\u001b[0m\u001b[0;34m.\u001b[0m\u001b[0mtarget_func\u001b[0m\u001b[0;34m(\u001b[0m\u001b[0;34m**\u001b[0m\u001b[0mparams\u001b[0m\u001b[0;34m)\u001b[0m\u001b[0;34m\u001b[0m\u001b[0m\n\u001b[0m\u001b[1;32m    195\u001b[0m             \u001b[0mself\u001b[0m\u001b[0;34m.\u001b[0m\u001b[0mregister\u001b[0m\u001b[0;34m(\u001b[0m\u001b[0mx\u001b[0m\u001b[0;34m,\u001b[0m \u001b[0mtarget\u001b[0m\u001b[0;34m)\u001b[0m\u001b[0;34m\u001b[0m\u001b[0m\n\u001b[1;32m    196\u001b[0m         \u001b[0;32mreturn\u001b[0m \u001b[0mtarget\u001b[0m\u001b[0;34m\u001b[0m\u001b[0m\n",
      "\u001b[0;32m<ipython-input-13-68926193f1c9>\u001b[0m in \u001b[0;36mlgb_model_age\u001b[0;34m(learning_rate, subsample, colsample_bytree, num_leaves, reg_alpha, reg_lambda)\u001b[0m\n\u001b[1;32m     26\u001b[0m \u001b[0;34m\u001b[0m\u001b[0m\n\u001b[1;32m     27\u001b[0m     \u001b[0mmodel\u001b[0m \u001b[0;34m=\u001b[0m \u001b[0mlgb\u001b[0m\u001b[0;34m.\u001b[0m\u001b[0mLGBMClassifier\u001b[0m\u001b[0;34m(\u001b[0m\u001b[0;34m**\u001b[0m\u001b[0mparams\u001b[0m\u001b[0;34m)\u001b[0m\u001b[0;34m\u001b[0m\u001b[0m\n\u001b[0;32m---> 28\u001b[0;31m     \u001b[0mval\u001b[0m \u001b[0;34m=\u001b[0m \u001b[0mcross_val_score\u001b[0m\u001b[0;34m(\u001b[0m\u001b[0mmodel\u001b[0m\u001b[0;34m,\u001b[0m\u001b[0mdata\u001b[0m\u001b[0;34m,\u001b[0m\u001b[0mlabel_age\u001b[0m\u001b[0;34m,\u001b[0m\u001b[0mcv\u001b[0m \u001b[0;34m=\u001b[0m \u001b[0;36m5\u001b[0m\u001b[0;34m)\u001b[0m\u001b[0;34m.\u001b[0m\u001b[0mmean\u001b[0m\u001b[0;34m(\u001b[0m\u001b[0;34m)\u001b[0m\u001b[0;34m\u001b[0m\u001b[0m\n\u001b[0m\u001b[1;32m     29\u001b[0m     \u001b[0;32mreturn\u001b[0m \u001b[0mval\u001b[0m\u001b[0;34m\u001b[0m\u001b[0m\n\u001b[1;32m     30\u001b[0m \u001b[0;34m\u001b[0m\u001b[0m\n",
      "\u001b[0;32m/opt/conda/envs/python3/lib/python3.6/site-packages/sklearn/model_selection/_validation.py\u001b[0m in \u001b[0;36mcross_val_score\u001b[0;34m(estimator, X, y, groups, scoring, cv, n_jobs, verbose, fit_params, pre_dispatch, error_score)\u001b[0m\n\u001b[1;32m    388\u001b[0m                                 \u001b[0mfit_params\u001b[0m\u001b[0;34m=\u001b[0m\u001b[0mfit_params\u001b[0m\u001b[0;34m,\u001b[0m\u001b[0;34m\u001b[0m\u001b[0m\n\u001b[1;32m    389\u001b[0m                                 \u001b[0mpre_dispatch\u001b[0m\u001b[0;34m=\u001b[0m\u001b[0mpre_dispatch\u001b[0m\u001b[0;34m,\u001b[0m\u001b[0;34m\u001b[0m\u001b[0m\n\u001b[0;32m--> 390\u001b[0;31m                                 error_score=error_score)\n\u001b[0m\u001b[1;32m    391\u001b[0m     \u001b[0;32mreturn\u001b[0m \u001b[0mcv_results\u001b[0m\u001b[0;34m[\u001b[0m\u001b[0;34m'test_score'\u001b[0m\u001b[0;34m]\u001b[0m\u001b[0;34m\u001b[0m\u001b[0m\n\u001b[1;32m    392\u001b[0m \u001b[0;34m\u001b[0m\u001b[0m\n",
      "\u001b[0;32m/opt/conda/envs/python3/lib/python3.6/site-packages/sklearn/model_selection/_validation.py\u001b[0m in \u001b[0;36mcross_validate\u001b[0;34m(estimator, X, y, groups, scoring, cv, n_jobs, verbose, fit_params, pre_dispatch, return_train_score, return_estimator, error_score)\u001b[0m\n\u001b[1;32m    234\u001b[0m             \u001b[0mreturn_times\u001b[0m\u001b[0;34m=\u001b[0m\u001b[0;32mTrue\u001b[0m\u001b[0;34m,\u001b[0m \u001b[0mreturn_estimator\u001b[0m\u001b[0;34m=\u001b[0m\u001b[0mreturn_estimator\u001b[0m\u001b[0;34m,\u001b[0m\u001b[0;34m\u001b[0m\u001b[0m\n\u001b[1;32m    235\u001b[0m             error_score=error_score)\n\u001b[0;32m--> 236\u001b[0;31m         for train, test in cv.split(X, y, groups))\n\u001b[0m\u001b[1;32m    237\u001b[0m \u001b[0;34m\u001b[0m\u001b[0m\n\u001b[1;32m    238\u001b[0m     \u001b[0mzipped_scores\u001b[0m \u001b[0;34m=\u001b[0m \u001b[0mlist\u001b[0m\u001b[0;34m(\u001b[0m\u001b[0mzip\u001b[0m\u001b[0;34m(\u001b[0m\u001b[0;34m*\u001b[0m\u001b[0mscores\u001b[0m\u001b[0;34m)\u001b[0m\u001b[0;34m)\u001b[0m\u001b[0;34m\u001b[0m\u001b[0m\n",
      "\u001b[0;32m/opt/conda/envs/python3/lib/python3.6/site-packages/joblib/parallel.py\u001b[0m in \u001b[0;36m__call__\u001b[0;34m(self, iterable)\u001b[0m\n\u001b[1;32m   1002\u001b[0m             \u001b[0;31m# remaining jobs.\u001b[0m\u001b[0;34m\u001b[0m\u001b[0;34m\u001b[0m\u001b[0m\n\u001b[1;32m   1003\u001b[0m             \u001b[0mself\u001b[0m\u001b[0;34m.\u001b[0m\u001b[0m_iterating\u001b[0m \u001b[0;34m=\u001b[0m \u001b[0;32mFalse\u001b[0m\u001b[0;34m\u001b[0m\u001b[0m\n\u001b[0;32m-> 1004\u001b[0;31m             \u001b[0;32mif\u001b[0m \u001b[0mself\u001b[0m\u001b[0;34m.\u001b[0m\u001b[0mdispatch_one_batch\u001b[0m\u001b[0;34m(\u001b[0m\u001b[0miterator\u001b[0m\u001b[0;34m)\u001b[0m\u001b[0;34m:\u001b[0m\u001b[0;34m\u001b[0m\u001b[0m\n\u001b[0m\u001b[1;32m   1005\u001b[0m                 \u001b[0mself\u001b[0m\u001b[0;34m.\u001b[0m\u001b[0m_iterating\u001b[0m \u001b[0;34m=\u001b[0m \u001b[0mself\u001b[0m\u001b[0;34m.\u001b[0m\u001b[0m_original_iterator\u001b[0m \u001b[0;32mis\u001b[0m \u001b[0;32mnot\u001b[0m \u001b[0;32mNone\u001b[0m\u001b[0;34m\u001b[0m\u001b[0m\n\u001b[1;32m   1006\u001b[0m \u001b[0;34m\u001b[0m\u001b[0m\n",
      "\u001b[0;32m/opt/conda/envs/python3/lib/python3.6/site-packages/joblib/parallel.py\u001b[0m in \u001b[0;36mdispatch_one_batch\u001b[0;34m(self, iterator)\u001b[0m\n\u001b[1;32m    833\u001b[0m                 \u001b[0;32mreturn\u001b[0m \u001b[0;32mFalse\u001b[0m\u001b[0;34m\u001b[0m\u001b[0m\n\u001b[1;32m    834\u001b[0m             \u001b[0;32melse\u001b[0m\u001b[0;34m:\u001b[0m\u001b[0;34m\u001b[0m\u001b[0m\n\u001b[0;32m--> 835\u001b[0;31m                 \u001b[0mself\u001b[0m\u001b[0;34m.\u001b[0m\u001b[0m_dispatch\u001b[0m\u001b[0;34m(\u001b[0m\u001b[0mtasks\u001b[0m\u001b[0;34m)\u001b[0m\u001b[0;34m\u001b[0m\u001b[0m\n\u001b[0m\u001b[1;32m    836\u001b[0m                 \u001b[0;32mreturn\u001b[0m \u001b[0;32mTrue\u001b[0m\u001b[0;34m\u001b[0m\u001b[0m\n\u001b[1;32m    837\u001b[0m \u001b[0;34m\u001b[0m\u001b[0m\n",
      "\u001b[0;32m/opt/conda/envs/python3/lib/python3.6/site-packages/joblib/parallel.py\u001b[0m in \u001b[0;36m_dispatch\u001b[0;34m(self, batch)\u001b[0m\n\u001b[1;32m    752\u001b[0m         \u001b[0;32mwith\u001b[0m \u001b[0mself\u001b[0m\u001b[0;34m.\u001b[0m\u001b[0m_lock\u001b[0m\u001b[0;34m:\u001b[0m\u001b[0;34m\u001b[0m\u001b[0m\n\u001b[1;32m    753\u001b[0m             \u001b[0mjob_idx\u001b[0m \u001b[0;34m=\u001b[0m \u001b[0mlen\u001b[0m\u001b[0;34m(\u001b[0m\u001b[0mself\u001b[0m\u001b[0;34m.\u001b[0m\u001b[0m_jobs\u001b[0m\u001b[0;34m)\u001b[0m\u001b[0;34m\u001b[0m\u001b[0m\n\u001b[0;32m--> 754\u001b[0;31m             \u001b[0mjob\u001b[0m \u001b[0;34m=\u001b[0m \u001b[0mself\u001b[0m\u001b[0;34m.\u001b[0m\u001b[0m_backend\u001b[0m\u001b[0;34m.\u001b[0m\u001b[0mapply_async\u001b[0m\u001b[0;34m(\u001b[0m\u001b[0mbatch\u001b[0m\u001b[0;34m,\u001b[0m \u001b[0mcallback\u001b[0m\u001b[0;34m=\u001b[0m\u001b[0mcb\u001b[0m\u001b[0;34m)\u001b[0m\u001b[0;34m\u001b[0m\u001b[0m\n\u001b[0m\u001b[1;32m    755\u001b[0m             \u001b[0;31m# A job can complete so quickly than its callback is\u001b[0m\u001b[0;34m\u001b[0m\u001b[0;34m\u001b[0m\u001b[0m\n\u001b[1;32m    756\u001b[0m             \u001b[0;31m# called before we get here, causing self._jobs to\u001b[0m\u001b[0;34m\u001b[0m\u001b[0;34m\u001b[0m\u001b[0m\n",
      "\u001b[0;32m/opt/conda/envs/python3/lib/python3.6/site-packages/joblib/_parallel_backends.py\u001b[0m in \u001b[0;36mapply_async\u001b[0;34m(self, func, callback)\u001b[0m\n\u001b[1;32m    207\u001b[0m     \u001b[0;32mdef\u001b[0m \u001b[0mapply_async\u001b[0m\u001b[0;34m(\u001b[0m\u001b[0mself\u001b[0m\u001b[0;34m,\u001b[0m \u001b[0mfunc\u001b[0m\u001b[0;34m,\u001b[0m \u001b[0mcallback\u001b[0m\u001b[0;34m=\u001b[0m\u001b[0;32mNone\u001b[0m\u001b[0;34m)\u001b[0m\u001b[0;34m:\u001b[0m\u001b[0;34m\u001b[0m\u001b[0m\n\u001b[1;32m    208\u001b[0m         \u001b[0;34m\"\"\"Schedule a func to be run\"\"\"\u001b[0m\u001b[0;34m\u001b[0m\u001b[0m\n\u001b[0;32m--> 209\u001b[0;31m         \u001b[0mresult\u001b[0m \u001b[0;34m=\u001b[0m \u001b[0mImmediateResult\u001b[0m\u001b[0;34m(\u001b[0m\u001b[0mfunc\u001b[0m\u001b[0;34m)\u001b[0m\u001b[0;34m\u001b[0m\u001b[0m\n\u001b[0m\u001b[1;32m    210\u001b[0m         \u001b[0;32mif\u001b[0m \u001b[0mcallback\u001b[0m\u001b[0;34m:\u001b[0m\u001b[0;34m\u001b[0m\u001b[0m\n\u001b[1;32m    211\u001b[0m             \u001b[0mcallback\u001b[0m\u001b[0;34m(\u001b[0m\u001b[0mresult\u001b[0m\u001b[0;34m)\u001b[0m\u001b[0;34m\u001b[0m\u001b[0m\n",
      "\u001b[0;32m/opt/conda/envs/python3/lib/python3.6/site-packages/joblib/_parallel_backends.py\u001b[0m in \u001b[0;36m__init__\u001b[0;34m(self, batch)\u001b[0m\n\u001b[1;32m    588\u001b[0m         \u001b[0;31m# Don't delay the application, to avoid keeping the input\u001b[0m\u001b[0;34m\u001b[0m\u001b[0;34m\u001b[0m\u001b[0m\n\u001b[1;32m    589\u001b[0m         \u001b[0;31m# arguments in memory\u001b[0m\u001b[0;34m\u001b[0m\u001b[0;34m\u001b[0m\u001b[0m\n\u001b[0;32m--> 590\u001b[0;31m         \u001b[0mself\u001b[0m\u001b[0;34m.\u001b[0m\u001b[0mresults\u001b[0m \u001b[0;34m=\u001b[0m \u001b[0mbatch\u001b[0m\u001b[0;34m(\u001b[0m\u001b[0;34m)\u001b[0m\u001b[0;34m\u001b[0m\u001b[0m\n\u001b[0m\u001b[1;32m    591\u001b[0m \u001b[0;34m\u001b[0m\u001b[0m\n\u001b[1;32m    592\u001b[0m     \u001b[0;32mdef\u001b[0m \u001b[0mget\u001b[0m\u001b[0;34m(\u001b[0m\u001b[0mself\u001b[0m\u001b[0;34m)\u001b[0m\u001b[0;34m:\u001b[0m\u001b[0;34m\u001b[0m\u001b[0m\n",
      "\u001b[0;32m/opt/conda/envs/python3/lib/python3.6/site-packages/joblib/parallel.py\u001b[0m in \u001b[0;36m__call__\u001b[0;34m(self)\u001b[0m\n\u001b[1;32m    254\u001b[0m         \u001b[0;32mwith\u001b[0m \u001b[0mparallel_backend\u001b[0m\u001b[0;34m(\u001b[0m\u001b[0mself\u001b[0m\u001b[0;34m.\u001b[0m\u001b[0m_backend\u001b[0m\u001b[0;34m,\u001b[0m \u001b[0mn_jobs\u001b[0m\u001b[0;34m=\u001b[0m\u001b[0mself\u001b[0m\u001b[0;34m.\u001b[0m\u001b[0m_n_jobs\u001b[0m\u001b[0;34m)\u001b[0m\u001b[0;34m:\u001b[0m\u001b[0;34m\u001b[0m\u001b[0m\n\u001b[1;32m    255\u001b[0m             return [func(*args, **kwargs)\n\u001b[0;32m--> 256\u001b[0;31m                     for func, args, kwargs in self.items]\n\u001b[0m\u001b[1;32m    257\u001b[0m \u001b[0;34m\u001b[0m\u001b[0m\n\u001b[1;32m    258\u001b[0m     \u001b[0;32mdef\u001b[0m \u001b[0m__len__\u001b[0m\u001b[0;34m(\u001b[0m\u001b[0mself\u001b[0m\u001b[0;34m)\u001b[0m\u001b[0;34m:\u001b[0m\u001b[0;34m\u001b[0m\u001b[0m\n",
      "\u001b[0;32m/opt/conda/envs/python3/lib/python3.6/site-packages/joblib/parallel.py\u001b[0m in \u001b[0;36m<listcomp>\u001b[0;34m(.0)\u001b[0m\n\u001b[1;32m    254\u001b[0m         \u001b[0;32mwith\u001b[0m \u001b[0mparallel_backend\u001b[0m\u001b[0;34m(\u001b[0m\u001b[0mself\u001b[0m\u001b[0;34m.\u001b[0m\u001b[0m_backend\u001b[0m\u001b[0;34m,\u001b[0m \u001b[0mn_jobs\u001b[0m\u001b[0;34m=\u001b[0m\u001b[0mself\u001b[0m\u001b[0;34m.\u001b[0m\u001b[0m_n_jobs\u001b[0m\u001b[0;34m)\u001b[0m\u001b[0;34m:\u001b[0m\u001b[0;34m\u001b[0m\u001b[0m\n\u001b[1;32m    255\u001b[0m             return [func(*args, **kwargs)\n\u001b[0;32m--> 256\u001b[0;31m                     for func, args, kwargs in self.items]\n\u001b[0m\u001b[1;32m    257\u001b[0m \u001b[0;34m\u001b[0m\u001b[0m\n\u001b[1;32m    258\u001b[0m     \u001b[0;32mdef\u001b[0m \u001b[0m__len__\u001b[0m\u001b[0;34m(\u001b[0m\u001b[0mself\u001b[0m\u001b[0;34m)\u001b[0m\u001b[0;34m:\u001b[0m\u001b[0;34m\u001b[0m\u001b[0m\n",
      "\u001b[0;32m/opt/conda/envs/python3/lib/python3.6/site-packages/sklearn/model_selection/_validation.py\u001b[0m in \u001b[0;36m_fit_and_score\u001b[0;34m(estimator, X, y, scorer, train, test, verbose, parameters, fit_params, return_train_score, return_parameters, return_n_test_samples, return_times, return_estimator, error_score)\u001b[0m\n\u001b[1;32m    513\u001b[0m             \u001b[0mestimator\u001b[0m\u001b[0;34m.\u001b[0m\u001b[0mfit\u001b[0m\u001b[0;34m(\u001b[0m\u001b[0mX_train\u001b[0m\u001b[0;34m,\u001b[0m \u001b[0;34m**\u001b[0m\u001b[0mfit_params\u001b[0m\u001b[0;34m)\u001b[0m\u001b[0;34m\u001b[0m\u001b[0m\n\u001b[1;32m    514\u001b[0m         \u001b[0;32melse\u001b[0m\u001b[0;34m:\u001b[0m\u001b[0;34m\u001b[0m\u001b[0m\n\u001b[0;32m--> 515\u001b[0;31m             \u001b[0mestimator\u001b[0m\u001b[0;34m.\u001b[0m\u001b[0mfit\u001b[0m\u001b[0;34m(\u001b[0m\u001b[0mX_train\u001b[0m\u001b[0;34m,\u001b[0m \u001b[0my_train\u001b[0m\u001b[0;34m,\u001b[0m \u001b[0;34m**\u001b[0m\u001b[0mfit_params\u001b[0m\u001b[0;34m)\u001b[0m\u001b[0;34m\u001b[0m\u001b[0m\n\u001b[0m\u001b[1;32m    516\u001b[0m \u001b[0;34m\u001b[0m\u001b[0m\n\u001b[1;32m    517\u001b[0m     \u001b[0;32mexcept\u001b[0m \u001b[0mException\u001b[0m \u001b[0;32mas\u001b[0m \u001b[0me\u001b[0m\u001b[0;34m:\u001b[0m\u001b[0;34m\u001b[0m\u001b[0m\n",
      "\u001b[0;32m/opt/conda/envs/python3/lib/python3.6/site-packages/lightgbm/sklearn.py\u001b[0m in \u001b[0;36mfit\u001b[0;34m(self, X, y, sample_weight, init_score, eval_set, eval_names, eval_sample_weight, eval_class_weight, eval_init_score, eval_metric, early_stopping_rounds, verbose, feature_name, categorical_feature, callbacks)\u001b[0m\n\u001b[1;32m    803\u001b[0m                                         \u001b[0mverbose\u001b[0m\u001b[0;34m=\u001b[0m\u001b[0mverbose\u001b[0m\u001b[0;34m,\u001b[0m \u001b[0mfeature_name\u001b[0m\u001b[0;34m=\u001b[0m\u001b[0mfeature_name\u001b[0m\u001b[0;34m,\u001b[0m\u001b[0;34m\u001b[0m\u001b[0m\n\u001b[1;32m    804\u001b[0m                                         \u001b[0mcategorical_feature\u001b[0m\u001b[0;34m=\u001b[0m\u001b[0mcategorical_feature\u001b[0m\u001b[0;34m,\u001b[0m\u001b[0;34m\u001b[0m\u001b[0m\n\u001b[0;32m--> 805\u001b[0;31m                                         callbacks=callbacks)\n\u001b[0m\u001b[1;32m    806\u001b[0m         \u001b[0;32mreturn\u001b[0m \u001b[0mself\u001b[0m\u001b[0;34m\u001b[0m\u001b[0m\n\u001b[1;32m    807\u001b[0m \u001b[0;34m\u001b[0m\u001b[0m\n",
      "\u001b[0;32m/opt/conda/envs/python3/lib/python3.6/site-packages/lightgbm/sklearn.py\u001b[0m in \u001b[0;36mfit\u001b[0;34m(self, X, y, sample_weight, init_score, group, eval_set, eval_names, eval_sample_weight, eval_class_weight, eval_init_score, eval_group, eval_metric, early_stopping_rounds, verbose, feature_name, categorical_feature, callbacks)\u001b[0m\n\u001b[1;32m    598\u001b[0m                               \u001b[0mverbose_eval\u001b[0m\u001b[0;34m=\u001b[0m\u001b[0mverbose\u001b[0m\u001b[0;34m,\u001b[0m \u001b[0mfeature_name\u001b[0m\u001b[0;34m=\u001b[0m\u001b[0mfeature_name\u001b[0m\u001b[0;34m,\u001b[0m\u001b[0;34m\u001b[0m\u001b[0m\n\u001b[1;32m    599\u001b[0m                               \u001b[0mcategorical_feature\u001b[0m\u001b[0;34m=\u001b[0m\u001b[0mcategorical_feature\u001b[0m\u001b[0;34m,\u001b[0m\u001b[0;34m\u001b[0m\u001b[0m\n\u001b[0;32m--> 600\u001b[0;31m                               callbacks=callbacks)\n\u001b[0m\u001b[1;32m    601\u001b[0m \u001b[0;34m\u001b[0m\u001b[0m\n\u001b[1;32m    602\u001b[0m         \u001b[0;32mif\u001b[0m \u001b[0mevals_result\u001b[0m\u001b[0;34m:\u001b[0m\u001b[0;34m\u001b[0m\u001b[0m\n",
      "\u001b[0;32m/opt/conda/envs/python3/lib/python3.6/site-packages/lightgbm/engine.py\u001b[0m in \u001b[0;36mtrain\u001b[0;34m(params, train_set, num_boost_round, valid_sets, valid_names, fobj, feval, init_model, feature_name, categorical_feature, early_stopping_rounds, evals_result, verbose_eval, learning_rates, keep_training_booster, callbacks)\u001b[0m\n\u001b[1;32m    247\u001b[0m                                     evaluation_result_list=None))\n\u001b[1;32m    248\u001b[0m \u001b[0;34m\u001b[0m\u001b[0m\n\u001b[0;32m--> 249\u001b[0;31m         \u001b[0mbooster\u001b[0m\u001b[0;34m.\u001b[0m\u001b[0mupdate\u001b[0m\u001b[0;34m(\u001b[0m\u001b[0mfobj\u001b[0m\u001b[0;34m=\u001b[0m\u001b[0mfobj\u001b[0m\u001b[0;34m)\u001b[0m\u001b[0;34m\u001b[0m\u001b[0m\n\u001b[0m\u001b[1;32m    250\u001b[0m \u001b[0;34m\u001b[0m\u001b[0m\n\u001b[1;32m    251\u001b[0m         \u001b[0mevaluation_result_list\u001b[0m \u001b[0;34m=\u001b[0m \u001b[0;34m[\u001b[0m\u001b[0;34m]\u001b[0m\u001b[0;34m\u001b[0m\u001b[0m\n",
      "\u001b[0;32m/opt/conda/envs/python3/lib/python3.6/site-packages/lightgbm/basic.py\u001b[0m in \u001b[0;36mupdate\u001b[0;34m(self, train_set, fobj)\u001b[0m\n\u001b[1;32m   1974\u001b[0m             _safe_call(_LIB.LGBM_BoosterUpdateOneIter(\n\u001b[1;32m   1975\u001b[0m                 \u001b[0mself\u001b[0m\u001b[0;34m.\u001b[0m\u001b[0mhandle\u001b[0m\u001b[0;34m,\u001b[0m\u001b[0;34m\u001b[0m\u001b[0m\n\u001b[0;32m-> 1976\u001b[0;31m                 ctypes.byref(is_finished)))\n\u001b[0m\u001b[1;32m   1977\u001b[0m             \u001b[0mself\u001b[0m\u001b[0;34m.\u001b[0m\u001b[0m__is_predicted_cur_iter\u001b[0m \u001b[0;34m=\u001b[0m \u001b[0;34m[\u001b[0m\u001b[0;32mFalse\u001b[0m \u001b[0;32mfor\u001b[0m \u001b[0m_\u001b[0m \u001b[0;32min\u001b[0m \u001b[0mrange_\u001b[0m\u001b[0;34m(\u001b[0m\u001b[0mself\u001b[0m\u001b[0;34m.\u001b[0m\u001b[0m__num_dataset\u001b[0m\u001b[0;34m)\u001b[0m\u001b[0;34m]\u001b[0m\u001b[0;34m\u001b[0m\u001b[0m\n\u001b[1;32m   1978\u001b[0m             \u001b[0;32mreturn\u001b[0m \u001b[0mis_finished\u001b[0m\u001b[0;34m.\u001b[0m\u001b[0mvalue\u001b[0m \u001b[0;34m==\u001b[0m \u001b[0;36m1\u001b[0m\u001b[0;34m\u001b[0m\u001b[0m\n",
      "\u001b[0;31mKeyboardInterrupt\u001b[0m: "
     ]
    }
   ],
   "source": [
    "param_dist_age = {\n",
    "            'learning_rate':(0.01,0.5),\n",
    "            'subsample':(0.1,0.9),\n",
    "            'colsample_bytree':(0.1,0.9),\n",
    "            'num_leaves' :(32,128),\n",
    "            'reg_alpha' :(0,0.1),\n",
    "            'reg_lambda' :(0,0.1)\n",
    "            }\n",
    "\n",
    "star = time.time()\n",
    "age_bayes = BayesianOptimization(lgb_model_age, pbounds=param_dist_age)\n",
    "age_bayes.maximize(init_points=5, n_iter=25)\n",
    "print('age param  is \\n',age_bayes.max)\n",
    "end = time.time()\n",
    "print('age time spend ',end-star)"
   ]
  },
  {
   "cell_type": "code",
   "execution_count": null,
   "metadata": {},
   "outputs": [
    {
     "name": "stdout",
     "output_type": "stream",
     "text": [
      "|   iter    |  target   | colsam... | learni... | num_le... | reg_alpha | reg_la... | subsample |\n",
      "-------------------------------------------------------------------------------------------------\n",
      "| \u001b[0m 1       \u001b[0m | \u001b[0m 0.8574  \u001b[0m | \u001b[0m 0.1904  \u001b[0m | \u001b[0m 0.531   \u001b[0m | \u001b[0m 216.6   \u001b[0m | \u001b[0m 0.05892 \u001b[0m | \u001b[0m 0.08801 \u001b[0m | \u001b[0m 0.8237  \u001b[0m |\n",
      "| \u001b[95m 2       \u001b[0m | \u001b[95m 0.8609  \u001b[0m | \u001b[95m 0.6938  \u001b[0m | \u001b[95m 0.2668  \u001b[0m | \u001b[95m 199.8   \u001b[0m | \u001b[95m 0.05682 \u001b[0m | \u001b[95m 0.05845 \u001b[0m | \u001b[95m 0.2904  \u001b[0m |\n",
      "| \u001b[0m 3       \u001b[0m | \u001b[0m 0.8497  \u001b[0m | \u001b[0m 0.9973  \u001b[0m | \u001b[0m 0.7138  \u001b[0m | \u001b[0m 229.7   \u001b[0m | \u001b[0m 0.03092 \u001b[0m | \u001b[0m 0.0264  \u001b[0m | \u001b[0m 0.887   \u001b[0m |\n",
      "| \u001b[0m 4       \u001b[0m | \u001b[0m 0.8473  \u001b[0m | \u001b[0m 0.643   \u001b[0m | \u001b[0m 0.7242  \u001b[0m | \u001b[0m 163.1   \u001b[0m | \u001b[0m 0.09727 \u001b[0m | \u001b[0m 0.05135 \u001b[0m | \u001b[0m 0.3809  \u001b[0m |\n",
      "| \u001b[95m 5       \u001b[0m | \u001b[95m 0.8612  \u001b[0m | \u001b[95m 0.6014  \u001b[0m | \u001b[95m 0.2263  \u001b[0m | \u001b[95m 112.7   \u001b[0m | \u001b[95m 0.09983 \u001b[0m | \u001b[95m 0.07735 \u001b[0m | \u001b[95m 0.4112  \u001b[0m |\n",
      "| \u001b[0m 6       \u001b[0m | \u001b[0m 0.8581  \u001b[0m | \u001b[0m 0.8827  \u001b[0m | \u001b[0m 0.434   \u001b[0m | \u001b[0m 113.5   \u001b[0m | \u001b[0m 0.01788 \u001b[0m | \u001b[0m 0.07476 \u001b[0m | \u001b[0m 0.4985  \u001b[0m |\n",
      "| \u001b[95m 7       \u001b[0m | \u001b[95m 0.8633  \u001b[0m | \u001b[95m 0.1684  \u001b[0m | \u001b[95m 0.136   \u001b[0m | \u001b[95m 16.09   \u001b[0m | \u001b[95m 0.06741 \u001b[0m | \u001b[95m 0.01441 \u001b[0m | \u001b[95m 0.4821  \u001b[0m |\n",
      "| \u001b[0m 8       \u001b[0m | \u001b[0m 0.8588  \u001b[0m | \u001b[0m 0.2326  \u001b[0m | \u001b[0m 0.02121 \u001b[0m | \u001b[0m 57.25   \u001b[0m | \u001b[0m 0.0543  \u001b[0m | \u001b[0m 0.08776 \u001b[0m | \u001b[0m 0.1767  \u001b[0m |\n",
      "| \u001b[0m 9       \u001b[0m | \u001b[0m 0.8578  \u001b[0m | \u001b[0m 0.1054  \u001b[0m | \u001b[0m 0.02102 \u001b[0m | \u001b[0m 88.7    \u001b[0m | \u001b[0m 0.01711 \u001b[0m | \u001b[0m 0.07653 \u001b[0m | \u001b[0m 0.9879  \u001b[0m |\n",
      "| \u001b[0m 10      \u001b[0m | \u001b[0m 0.8616  \u001b[0m | \u001b[0m 0.9716  \u001b[0m | \u001b[0m 0.03119 \u001b[0m | \u001b[0m 25.26   \u001b[0m | \u001b[0m 0.05497 \u001b[0m | \u001b[0m 0.08996 \u001b[0m | \u001b[0m 0.1503  \u001b[0m |\n",
      "| \u001b[0m 11      \u001b[0m | \u001b[0m 0.853   \u001b[0m | \u001b[0m 0.1046  \u001b[0m | \u001b[0m 0.8219  \u001b[0m | \u001b[0m 17.48   \u001b[0m | \u001b[0m 0.01697 \u001b[0m | \u001b[0m 0.07695 \u001b[0m | \u001b[0m 0.1294  \u001b[0m |\n",
      "| \u001b[0m 12      \u001b[0m | \u001b[0m 0.8583  \u001b[0m | \u001b[0m 0.458   \u001b[0m | \u001b[0m 0.0272  \u001b[0m | \u001b[0m 255.9   \u001b[0m | \u001b[0m 0.01554 \u001b[0m | \u001b[0m 0.05449 \u001b[0m | \u001b[0m 0.1093  \u001b[0m |\n",
      "| \u001b[0m 13      \u001b[0m | \u001b[0m 0.8536  \u001b[0m | \u001b[0m 0.2652  \u001b[0m | \u001b[0m 0.01494 \u001b[0m | \u001b[0m 126.9   \u001b[0m | \u001b[0m 0.08131 \u001b[0m | \u001b[0m 0.009664\u001b[0m | \u001b[0m 0.9243  \u001b[0m |\n",
      "| \u001b[0m 14      \u001b[0m | \u001b[0m 0.8511  \u001b[0m | \u001b[0m 0.97    \u001b[0m | \u001b[0m 0.02197 \u001b[0m | \u001b[0m 16.67   \u001b[0m | \u001b[0m 0.08709 \u001b[0m | \u001b[0m 0.05422 \u001b[0m | \u001b[0m 0.5036  \u001b[0m |\n",
      "| \u001b[0m 15      \u001b[0m | \u001b[0m 0.8526  \u001b[0m | \u001b[0m 0.1845  \u001b[0m | \u001b[0m 0.01456 \u001b[0m | \u001b[0m 36.23   \u001b[0m | \u001b[0m 0.03529 \u001b[0m | \u001b[0m 0.01043 \u001b[0m | \u001b[0m 0.9463  \u001b[0m |\n",
      "| \u001b[0m 16      \u001b[0m | \u001b[0m 0.8585  \u001b[0m | \u001b[0m 0.1015  \u001b[0m | \u001b[0m 0.09664 \u001b[0m | \u001b[0m 180.2   \u001b[0m | \u001b[0m 0.02784 \u001b[0m | \u001b[0m 0.05542 \u001b[0m | \u001b[0m 0.9105  \u001b[0m |\n",
      "| \u001b[0m 17      \u001b[0m | \u001b[0m 0.8595  \u001b[0m | \u001b[0m 0.2956  \u001b[0m | \u001b[0m 0.0236  \u001b[0m | \u001b[0m 74.96   \u001b[0m | \u001b[0m 0.03152 \u001b[0m | \u001b[0m 0.05937 \u001b[0m | \u001b[0m 0.1728  \u001b[0m |\n",
      "| \u001b[0m 18      \u001b[0m | \u001b[0m 0.8613  \u001b[0m | \u001b[0m 0.1103  \u001b[0m | \u001b[0m 0.04003 \u001b[0m | \u001b[0m 94.83   \u001b[0m | \u001b[0m 0.02978 \u001b[0m | \u001b[0m 0.09532 \u001b[0m | \u001b[0m 0.143   \u001b[0m |\n",
      "| \u001b[0m 19      \u001b[0m | \u001b[0m 0.8292  \u001b[0m | \u001b[0m 0.1     \u001b[0m | \u001b[0m 1.0     \u001b[0m | \u001b[0m 192.1   \u001b[0m | \u001b[0m 0.1     \u001b[0m | \u001b[0m 0.1     \u001b[0m | \u001b[0m 0.1992  \u001b[0m |\n",
      "| \u001b[0m 20      \u001b[0m | \u001b[0m 0.8573  \u001b[0m | \u001b[0m 0.9785  \u001b[0m | \u001b[0m 0.03552 \u001b[0m | \u001b[0m 205.6   \u001b[0m | \u001b[0m 0.0228  \u001b[0m | \u001b[0m 0.06257 \u001b[0m | \u001b[0m 0.9325  \u001b[0m |\n",
      "| \u001b[0m 21      \u001b[0m | \u001b[0m 0.8417  \u001b[0m | \u001b[0m 0.163   \u001b[0m | \u001b[0m 0.01263 \u001b[0m | \u001b[0m 240.7   \u001b[0m | \u001b[0m 0.08444 \u001b[0m | \u001b[0m 0.07708 \u001b[0m | \u001b[0m 0.1756  \u001b[0m |\n",
      "| \u001b[0m 22      \u001b[0m | \u001b[0m 0.8387  \u001b[0m | \u001b[0m 1.0     \u001b[0m | \u001b[0m 0.01    \u001b[0m | \u001b[0m 143.2   \u001b[0m | \u001b[0m 0.01516 \u001b[0m | \u001b[0m 0.05455 \u001b[0m | \u001b[0m 0.1     \u001b[0m |\n",
      "| \u001b[0m 23      \u001b[0m | \u001b[0m 0.863   \u001b[0m | \u001b[0m 0.9443  \u001b[0m | \u001b[0m 0.07463 \u001b[0m | \u001b[0m 218.8   \u001b[0m | \u001b[0m 0.06426 \u001b[0m | \u001b[0m 0.09589 \u001b[0m | \u001b[0m 0.1627  \u001b[0m |\n",
      "| \u001b[0m 24      \u001b[0m | \u001b[0m 0.8616  \u001b[0m | \u001b[0m 0.7906  \u001b[0m | \u001b[0m 0.0769  \u001b[0m | \u001b[0m 173.4   \u001b[0m | \u001b[0m 0.008542\u001b[0m | \u001b[0m 0.0217  \u001b[0m | \u001b[0m 0.1704  \u001b[0m |\n",
      "| \u001b[95m 25      \u001b[0m | \u001b[95m 0.8644  \u001b[0m | \u001b[95m 0.23    \u001b[0m | \u001b[95m 0.03763 \u001b[0m | \u001b[95m 22.61   \u001b[0m | \u001b[95m 0.09605 \u001b[0m | \u001b[95m 0.08994 \u001b[0m | \u001b[95m 0.9919  \u001b[0m |\n",
      "| \u001b[0m 26      \u001b[0m | \u001b[0m 0.86    \u001b[0m | \u001b[0m 0.1124  \u001b[0m | \u001b[0m 0.07248 \u001b[0m | \u001b[0m 225.5   \u001b[0m | \u001b[0m 0.089   \u001b[0m | \u001b[0m 0.0687  \u001b[0m | \u001b[0m 0.9681  \u001b[0m |\n",
      "| \u001b[0m 27      \u001b[0m | \u001b[0m 0.8611  \u001b[0m | \u001b[0m 0.7951  \u001b[0m | \u001b[0m 0.03407 \u001b[0m | \u001b[0m 102.6   \u001b[0m | \u001b[0m 0.05367 \u001b[0m | \u001b[0m 0.07017 \u001b[0m | \u001b[0m 0.8665  \u001b[0m |\n",
      "| \u001b[0m 28      \u001b[0m | \u001b[0m 0.8227  \u001b[0m | \u001b[0m 0.1     \u001b[0m | \u001b[0m 0.01    \u001b[0m | \u001b[0m 159.0   \u001b[0m | \u001b[0m 0.0     \u001b[0m | \u001b[0m 0.0     \u001b[0m | \u001b[0m 0.4245  \u001b[0m |\n",
      "| \u001b[0m 29      \u001b[0m | \u001b[0m 0.8358  \u001b[0m | \u001b[0m 0.1075  \u001b[0m | \u001b[0m 0.984   \u001b[0m | \u001b[0m 104.3   \u001b[0m | \u001b[0m 0.09326 \u001b[0m | \u001b[0m 0.04013 \u001b[0m | \u001b[0m 0.2886  \u001b[0m |\n",
      "| \u001b[0m 30      \u001b[0m | \u001b[0m 0.8617  \u001b[0m | \u001b[0m 0.8867  \u001b[0m | \u001b[0m 0.0351  \u001b[0m | \u001b[0m 87.05   \u001b[0m | \u001b[0m 0.07555 \u001b[0m | \u001b[0m 0.01552 \u001b[0m | \u001b[0m 0.1155  \u001b[0m |\n",
      "=================================================================================================\n",
      "gender param  is \n",
      " {'target': 0.8644000000000001, 'params': {'colsample_bytree': 0.23003515005192937, 'learning_rate': 0.03762723572378946, 'num_leaves': 22.610365878952365, 'reg_alpha': 0.0960517470793309, 'reg_lambda': 0.08993805392396598, 'subsample': 0.9919016662042355}}\n",
      "gender time spend  5483.742993116379\n",
      "******************************************************\n",
      "|   iter    |  target   | colsam... | learni... | num_le... | reg_alpha | reg_la... | subsample |\n",
      "-------------------------------------------------------------------------------------------------\n",
      "| \u001b[0m 1       \u001b[0m | \u001b[0m 0.2866  \u001b[0m | \u001b[0m 0.8639  \u001b[0m | \u001b[0m 0.1772  \u001b[0m | \u001b[0m 129.0   \u001b[0m | \u001b[0m 0.01782 \u001b[0m | \u001b[0m 0.07251 \u001b[0m | \u001b[0m 0.7929  \u001b[0m |\n",
      "| \u001b[0m 2       \u001b[0m | \u001b[0m 0.2857  \u001b[0m | \u001b[0m 0.9767  \u001b[0m | \u001b[0m 0.2183  \u001b[0m | \u001b[0m 36.01   \u001b[0m | \u001b[0m 0.09673 \u001b[0m | \u001b[0m 0.04338 \u001b[0m | \u001b[0m 0.3968  \u001b[0m |\n",
      "| \u001b[0m 3       \u001b[0m | \u001b[0m 0.2671  \u001b[0m | \u001b[0m 0.9089  \u001b[0m | \u001b[0m 0.0348  \u001b[0m | \u001b[0m 229.5   \u001b[0m | \u001b[0m 0.02761 \u001b[0m | \u001b[0m 0.02344 \u001b[0m | \u001b[0m 0.6415  \u001b[0m |\n",
      "| \u001b[0m 4       \u001b[0m | \u001b[0m 0.2763  \u001b[0m | \u001b[0m 0.1729  \u001b[0m | \u001b[0m 0.05199 \u001b[0m | \u001b[0m 63.19   \u001b[0m | \u001b[0m 0.09249 \u001b[0m | \u001b[0m 0.08783 \u001b[0m | \u001b[0m 0.6307  \u001b[0m |\n",
      "| \u001b[0m 5       \u001b[0m | \u001b[0m 0.1328  \u001b[0m | \u001b[0m 0.7237  \u001b[0m | \u001b[0m 0.9947  \u001b[0m | \u001b[0m 80.4    \u001b[0m | \u001b[0m 0.06772 \u001b[0m | \u001b[0m 0.02857 \u001b[0m | \u001b[0m 0.6244  \u001b[0m |\n",
      "| \u001b[0m 6       \u001b[0m | \u001b[0m 0.2417  \u001b[0m | \u001b[0m 0.1     \u001b[0m | \u001b[0m 1.0     \u001b[0m | \u001b[0m 180.7   \u001b[0m | \u001b[0m 0.1     \u001b[0m | \u001b[0m 0.1     \u001b[0m | \u001b[0m 0.1     \u001b[0m |\n",
      "| \u001b[0m 7       \u001b[0m | \u001b[0m 0.2802  \u001b[0m | \u001b[0m 0.9388  \u001b[0m | \u001b[0m 0.1651  \u001b[0m | \u001b[0m 132.3   \u001b[0m | \u001b[0m 0.09936 \u001b[0m | \u001b[0m 0.06989 \u001b[0m | \u001b[0m 0.4697  \u001b[0m |\n",
      "| \u001b[0m 8       \u001b[0m | \u001b[0m 0.2572  \u001b[0m | \u001b[0m 0.1     \u001b[0m | \u001b[0m 1.0     \u001b[0m | \u001b[0m 256.0   \u001b[0m | \u001b[0m 0.0     \u001b[0m | \u001b[0m 0.1     \u001b[0m | \u001b[0m 1.0     \u001b[0m |\n",
      "| \u001b[0m 9       \u001b[0m | \u001b[0m 0.2686  \u001b[0m | \u001b[0m 0.4974  \u001b[0m | \u001b[0m 0.01958 \u001b[0m | \u001b[0m 16.14   \u001b[0m | \u001b[0m 0.005613\u001b[0m | \u001b[0m 0.01832 \u001b[0m | \u001b[0m 0.9055  \u001b[0m |\n",
      "| \u001b[0m 10      \u001b[0m | \u001b[0m 0.2752  \u001b[0m | \u001b[0m 0.1828  \u001b[0m | \u001b[0m 0.08431 \u001b[0m | \u001b[0m 206.1   \u001b[0m | \u001b[0m 0.01488 \u001b[0m | \u001b[0m 0.07045 \u001b[0m | \u001b[0m 0.998   \u001b[0m |\n",
      "| \u001b[0m 11      \u001b[0m | \u001b[0m 0.2299  \u001b[0m | \u001b[0m 0.1     \u001b[0m | \u001b[0m 1.0     \u001b[0m | \u001b[0m 50.02   \u001b[0m | \u001b[0m 0.00832 \u001b[0m | \u001b[0m 0.00832 \u001b[0m | \u001b[0m 0.1     \u001b[0m |\n",
      "| \u001b[0m 12      \u001b[0m | \u001b[0m 0.2468  \u001b[0m | \u001b[0m 0.1     \u001b[0m | \u001b[0m 0.01    \u001b[0m | \u001b[0m 158.8   \u001b[0m | \u001b[0m 0.0     \u001b[0m | \u001b[0m 0.1     \u001b[0m | \u001b[0m 1.0     \u001b[0m |\n",
      "| \u001b[0m 13      \u001b[0m | \u001b[0m 0.2454  \u001b[0m | \u001b[0m 0.1     \u001b[0m | \u001b[0m 0.01    \u001b[0m | \u001b[0m 113.8   \u001b[0m | \u001b[0m 0.1     \u001b[0m | \u001b[0m 0.1     \u001b[0m | \u001b[0m 0.1     \u001b[0m |\n",
      "| \u001b[0m 14      \u001b[0m | \u001b[0m 0.2751  \u001b[0m | \u001b[0m 0.1026  \u001b[0m | \u001b[0m 0.02813 \u001b[0m | \u001b[0m 25.37   \u001b[0m | \u001b[0m 0.06212 \u001b[0m | \u001b[0m 0.05087 \u001b[0m | \u001b[0m 0.7829  \u001b[0m |\n",
      "| \u001b[0m 15      \u001b[0m | \u001b[0m 0.2723  \u001b[0m | \u001b[0m 0.1793  \u001b[0m | \u001b[0m 0.08059 \u001b[0m | \u001b[0m 244.2   \u001b[0m | \u001b[0m 0.007277\u001b[0m | \u001b[0m 0.04417 \u001b[0m | \u001b[0m 0.1034  \u001b[0m |\n",
      "| \u001b[0m 16      \u001b[0m | \u001b[0m 0.2792  \u001b[0m | \u001b[0m 0.9464  \u001b[0m | \u001b[0m 0.07228 \u001b[0m | \u001b[0m 191.9   \u001b[0m | \u001b[0m 0.007449\u001b[0m | \u001b[0m 0.02312 \u001b[0m | \u001b[0m 0.9554  \u001b[0m |\n",
      "| \u001b[95m 17      \u001b[0m | \u001b[95m 0.2872  \u001b[0m | \u001b[95m 0.9712  \u001b[0m | \u001b[95m 0.06787 \u001b[0m | \u001b[95m 57.18   \u001b[0m | \u001b[95m 0.06883 \u001b[0m | \u001b[95m 0.09217 \u001b[0m | \u001b[95m 0.9001  \u001b[0m |\n",
      "| \u001b[0m 18      \u001b[0m | \u001b[0m 0.23    \u001b[0m | \u001b[0m 1.0     \u001b[0m | \u001b[0m 1.0     \u001b[0m | \u001b[0m 241.5   \u001b[0m | \u001b[0m 0.1     \u001b[0m | \u001b[0m 0.1     \u001b[0m | \u001b[0m 1.0     \u001b[0m |\n"
     ]
    }
   ],
   "source": [
    "\n",
    "param_dist_gender = {\n",
    "            'learning_rate':(0.01,1),\n",
    "            'subsample':(0.1,1),\n",
    "            'colsample_bytree':(0.1,1),\n",
    "            'num_leaves' :(16,256),\n",
    "            'reg_alpha' :(0,0.1),\n",
    "            'reg_lambda' :(0,0.1)\n",
    "            }\n",
    "\n",
    "star = time.time()\n",
    "gender_bayes = BayesianOptimization(lgb_model_gender, pbounds=param_dist_gender)\n",
    "gender_bayes.maximize(init_points=5, n_iter=25)\n",
    "print('gender param  is \\n',gender_bayes.max)\n",
    "end = time.time()\n",
    "print('gender time spend ',end-star)\n",
    "\n",
    "print('******************************************************')\n",
    "\n",
    "param_dist_age = {\n",
    "            'learning_rate':(0.01,1),\n",
    "            'subsample':(0.1,1),\n",
    "            'colsample_bytree':(0.1,1),\n",
    "            'num_leaves' :(16,256),\n",
    "            'reg_alpha' :(0,0.1),\n",
    "            'reg_lambda' :(0,0.1)\n",
    "            }\n",
    "\n",
    "star = time.time()\n",
    "age_bayes = BayesianOptimization(lgb_model_age, pbounds=param_dist_age)\n",
    "age_bayes.maximize(init_points=5, n_iter=25)\n",
    "print('age param  is \\n',age_bayes.max)\n",
    "end = time.time()\n",
    "print('age time spend ',end-star)"
   ]
  },
  {
   "cell_type": "code",
   "execution_count": null,
   "metadata": {},
   "outputs": [],
   "source": []
  }
 ],
 "metadata": {
  "kernelspec": {
   "display_name": "conda_python3",
   "language": "python",
   "name": "conda_python3"
  },
  "language_info": {
   "codemirror_mode": {
    "name": "ipython",
    "version": 3
   },
   "file_extension": ".py",
   "mimetype": "text/x-python",
   "name": "python",
   "nbconvert_exporter": "python",
   "pygments_lexer": "ipython3",
   "version": "3.6.5"
  }
 },
 "nbformat": 4,
 "nbformat_minor": 4
}
